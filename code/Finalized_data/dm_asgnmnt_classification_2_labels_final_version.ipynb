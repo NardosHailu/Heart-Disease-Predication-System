{
 "cells": [
  {
   "cell_type": "markdown",
   "metadata": {},
   "source": [
    "# Final version (2 label)"
   ]
  },
  {
   "cell_type": "markdown",
   "metadata": {},
   "source": [
    "### Import packages"
   ]
  },
  {
   "cell_type": "code",
   "execution_count": 1,
   "metadata": {},
   "outputs": [],
   "source": [
    "import pandas as pd\n",
    "import numpy as np\n",
    "\n",
    "from sklearn import preprocessing\n",
    "from sklearn.model_selection import train_test_split\n",
    "from sklearn.model_selection import cross_val_score\n",
    "from sklearn import metrics\n",
    "from sklearn import tree\n",
    "from sklearn.ensemble import RandomForestClassifier\n",
    "from sklearn.svm import SVC\n",
    "from sklearn.neighbors import KNeighborsClassifier\n",
    "\n",
    "import seaborn as sns; sns.set()\n",
    "\n",
    "import matplotlib\n",
    "import matplotlib.pyplot as plt\n",
    "from sklearn.metrics import confusion_matrix, accuracy_score, roc_auc_score, roc_curve\n",
    "from sklearn.metrics import classification_report"
   ]
  },
  {
   "cell_type": "markdown",
   "metadata": {},
   "source": [
    "Load the normalized data set"
   ]
  },
  {
   "cell_type": "code",
   "execution_count": 2,
   "metadata": {},
   "outputs": [
    {
     "data": {
      "text/plain": [
       "(918, 12)"
      ]
     },
     "execution_count": 2,
     "metadata": {},
     "output_type": "execute_result"
    }
   ],
   "source": [
    "##patients = pd.read_csv('normalized_data_2_labels.csv') #loading data\n",
    "patients = pd.read_csv(\"C:/Users/Hev's/Desktop/normalized_data_2_labels.csv\") \n",
    "patients.shape"
   ]
  },
  {
   "cell_type": "code",
   "execution_count": 3,
   "metadata": {},
   "outputs": [
    {
     "data": {
      "text/html": [
       "<div>\n",
       "<style scoped>\n",
       "    .dataframe tbody tr th:only-of-type {\n",
       "        vertical-align: middle;\n",
       "    }\n",
       "\n",
       "    .dataframe tbody tr th {\n",
       "        vertical-align: top;\n",
       "    }\n",
       "\n",
       "    .dataframe thead th {\n",
       "        text-align: right;\n",
       "    }\n",
       "</style>\n",
       "<table border=\"1\" class=\"dataframe\">\n",
       "  <thead>\n",
       "    <tr style=\"text-align: right;\">\n",
       "      <th></th>\n",
       "      <th>age</th>\n",
       "      <th>sex</th>\n",
       "      <th>cp</th>\n",
       "      <th>trestbps</th>\n",
       "      <th>chol</th>\n",
       "      <th>fbs</th>\n",
       "      <th>restecg</th>\n",
       "      <th>thalach</th>\n",
       "      <th>exang</th>\n",
       "      <th>oldpeak</th>\n",
       "      <th>slope</th>\n",
       "      <th>class</th>\n",
       "    </tr>\n",
       "  </thead>\n",
       "  <tbody>\n",
       "    <tr>\n",
       "      <th>0</th>\n",
       "      <td>0.714286</td>\n",
       "      <td>1.0</td>\n",
       "      <td>0.000000</td>\n",
       "      <td>0.725</td>\n",
       "      <td>0.386401</td>\n",
       "      <td>1.0</td>\n",
       "      <td>1.0</td>\n",
       "      <td>0.633803</td>\n",
       "      <td>0.0</td>\n",
       "      <td>0.556818</td>\n",
       "      <td>1.0</td>\n",
       "      <td>0</td>\n",
       "    </tr>\n",
       "    <tr>\n",
       "      <th>1</th>\n",
       "      <td>0.795918</td>\n",
       "      <td>1.0</td>\n",
       "      <td>1.000000</td>\n",
       "      <td>0.800</td>\n",
       "      <td>0.474295</td>\n",
       "      <td>0.0</td>\n",
       "      <td>1.0</td>\n",
       "      <td>0.338028</td>\n",
       "      <td>1.0</td>\n",
       "      <td>0.465909</td>\n",
       "      <td>0.5</td>\n",
       "      <td>1</td>\n",
       "    </tr>\n",
       "    <tr>\n",
       "      <th>2</th>\n",
       "      <td>0.795918</td>\n",
       "      <td>1.0</td>\n",
       "      <td>1.000000</td>\n",
       "      <td>0.600</td>\n",
       "      <td>0.379768</td>\n",
       "      <td>0.0</td>\n",
       "      <td>1.0</td>\n",
       "      <td>0.485915</td>\n",
       "      <td>1.0</td>\n",
       "      <td>0.590909</td>\n",
       "      <td>0.5</td>\n",
       "      <td>1</td>\n",
       "    </tr>\n",
       "    <tr>\n",
       "      <th>3</th>\n",
       "      <td>0.183673</td>\n",
       "      <td>1.0</td>\n",
       "      <td>0.666667</td>\n",
       "      <td>0.650</td>\n",
       "      <td>0.414594</td>\n",
       "      <td>0.0</td>\n",
       "      <td>0.0</td>\n",
       "      <td>0.894366</td>\n",
       "      <td>0.0</td>\n",
       "      <td>0.693182</td>\n",
       "      <td>1.0</td>\n",
       "      <td>0</td>\n",
       "    </tr>\n",
       "    <tr>\n",
       "      <th>4</th>\n",
       "      <td>0.265306</td>\n",
       "      <td>0.0</td>\n",
       "      <td>0.333333</td>\n",
       "      <td>0.650</td>\n",
       "      <td>0.338308</td>\n",
       "      <td>0.0</td>\n",
       "      <td>1.0</td>\n",
       "      <td>0.788732</td>\n",
       "      <td>0.0</td>\n",
       "      <td>0.454545</td>\n",
       "      <td>0.0</td>\n",
       "      <td>0</td>\n",
       "    </tr>\n",
       "  </tbody>\n",
       "</table>\n",
       "</div>"
      ],
      "text/plain": [
       "        age  sex        cp  trestbps      chol  fbs  restecg   thalach  exang  \\\n",
       "0  0.714286  1.0  0.000000     0.725  0.386401  1.0      1.0  0.633803    0.0   \n",
       "1  0.795918  1.0  1.000000     0.800  0.474295  0.0      1.0  0.338028    1.0   \n",
       "2  0.795918  1.0  1.000000     0.600  0.379768  0.0      1.0  0.485915    1.0   \n",
       "3  0.183673  1.0  0.666667     0.650  0.414594  0.0      0.0  0.894366    0.0   \n",
       "4  0.265306  0.0  0.333333     0.650  0.338308  0.0      1.0  0.788732    0.0   \n",
       "\n",
       "    oldpeak  slope  class  \n",
       "0  0.556818    1.0      0  \n",
       "1  0.465909    0.5      1  \n",
       "2  0.590909    0.5      1  \n",
       "3  0.693182    1.0      0  \n",
       "4  0.454545    0.0      0  "
      ]
     },
     "execution_count": 3,
     "metadata": {},
     "output_type": "execute_result"
    }
   ],
   "source": [
    "patients.head()"
   ]
  },
  {
   "cell_type": "markdown",
   "metadata": {},
   "source": [
    "## Checking the data if it is balanced or not."
   ]
  },
  {
   "cell_type": "code",
   "execution_count": 4,
   "metadata": {},
   "outputs": [
    {
     "name": "stdout",
     "output_type": "stream",
     "text": [
      "Count of data in the targer variable AxesSubplot(0.125,0.125;0.775x0.755)\n"
     ]
    },
    {
     "data": {
      "image/png": "[encoded data removed]",
      "text/plain": [
       "<Figure size 432x288 with 1 Axes>"
      ]
     },
     "metadata": {},
     "output_type": "display_data"
    }
   ],
   "source": [
    "print(\"Count of data in the targer variable\",patients['class'].value_counts().head(10).plot.bar())\n",
    "\n",
    "#Our data is some where balanced"
   ]
  },
  {
   "cell_type": "markdown",
   "metadata": {},
   "source": [
    "### Testing for correlation between all features in our dataset "
   ]
  },
  {
   "cell_type": "code",
   "execution_count": 5,
   "metadata": {},
   "outputs": [
    {
     "data": {
      "image/png": "[encoded data removed]",
      "text/plain": [
       "<Figure size 720x576 with 2 Axes>"
      ]
     },
     "metadata": {},
     "output_type": "display_data"
    }
   ],
   "source": [
    "correlation= patients.corr()\n",
    "plt.figure(figsize=(10,8))\n",
    "plt.title('Correlation of Attributes with Class variable')\n",
    "a = sns.heatmap(correlation, square=True, annot=True, fmt='.2f', linecolor='white')\n",
    "a.set_xticklabels(a.get_xticklabels(), rotation=90)\n",
    "a.set_yticklabels(a.get_yticklabels(), rotation=30)           \n",
    "plt.show()"
   ]
  },
  {
   "cell_type": "markdown",
   "metadata": {},
   "source": [
    "Split the class label and features into separate data frames"
   ]
  },
  {
   "cell_type": "code",
   "execution_count": 6,
   "metadata": {},
   "outputs": [],
   "source": [
    "pt_features = patients.drop('class', axis=1)\n",
    "pt_class = patients['class']"
   ]
  },
  {
   "cell_type": "markdown",
   "metadata": {},
   "source": [
    "Split the full (normazlied) data set into train (70%) and test (30%) sets"
   ]
  },
  {
   "cell_type": "code",
   "execution_count": 7,
   "metadata": {},
   "outputs": [],
   "source": [
    "train_features, test_features, train_label, test_label = train_test_split(pt_features, pt_class, test_size=0.3, random_state=0)"
   ]
  },
  {
   "cell_type": "code",
   "execution_count": 8,
   "metadata": {},
   "outputs": [
    {
     "data": {
      "text/plain": [
       "(642, 11)"
      ]
     },
     "execution_count": 8,
     "metadata": {},
     "output_type": "execute_result"
    }
   ],
   "source": [
    "train_features.shape"
   ]
  },
  {
   "cell_type": "code",
   "execution_count": 9,
   "metadata": {},
   "outputs": [
    {
     "data": {
      "text/plain": [
       "(276, 11)"
      ]
     },
     "execution_count": 9,
     "metadata": {},
     "output_type": "execute_result"
    }
   ],
   "source": [
    "test_features.shape"
   ]
  },
  {
   "cell_type": "markdown",
   "metadata": {},
   "source": [
    "Run decision tree classifier and do k-fold cross validation with k=10 on the train data set with scoring as F1macro"
   ]
  },
  {
   "cell_type": "code",
   "execution_count": 10,
   "metadata": {},
   "outputs": [],
   "source": [
    "clf = tree.DecisionTreeClassifier(random_state=0, max_depth=20, criterion='entropy')\n",
    "treescores = cross_val_score(clf, train_features, train_label, cv=10, scoring='f1_macro')"
   ]
  },
  {
   "cell_type": "code",
   "execution_count": 11,
   "metadata": {},
   "outputs": [
    {
     "name": "stdout",
     "output_type": "stream",
     "text": [
      "[0.67195386 0.71766409 0.66790215 0.71764706 0.7030525  0.68472906\n",
      " 0.7030525  0.6014944  0.79441562 0.77931034]\n"
     ]
    }
   ],
   "source": [
    "print(treescores)"
   ]
  },
  {
   "cell_type": "markdown",
   "metadata": {},
   "source": [
    "Run Random Forest with 10, 100 and 1000 trees"
   ]
  },
  {
   "cell_type": "code",
   "execution_count": 12,
   "metadata": {},
   "outputs": [],
   "source": [
    "forest10 = RandomForestClassifier(n_estimators=10, max_depth=5, criterion='entropy', random_state=0)\n",
    "forest100 = RandomForestClassifier(n_estimators=100, max_depth=5, criterion='entropy',random_state=0)\n",
    "forest1000 = RandomForestClassifier(n_estimators=1000, max_depth=5, criterion='entropy', random_state=0)"
   ]
  },
  {
   "cell_type": "code",
   "execution_count": 13,
   "metadata": {},
   "outputs": [],
   "source": [
    "forestscores10 = cross_val_score(forest10, train_features, train_label, cv=10, scoring='f1_macro')\n",
    "forestscores100 = cross_val_score(forest100, train_features, train_label, cv=10, scoring='f1_macro')\n",
    "forestscores1000 = cross_val_score(forest1000, train_features, train_label, cv=10, scoring='f1_macro')"
   ]
  },
  {
   "cell_type": "markdown",
   "metadata": {},
   "source": [
    "Print all 10 F1 scores of the three random forests"
   ]
  },
  {
   "cell_type": "code",
   "execution_count": 14,
   "metadata": {},
   "outputs": [
    {
     "name": "stdout",
     "output_type": "stream",
     "text": [
      "[0.70518023 0.74903475 0.82774651 0.84126984 0.79277709 0.77777778\n",
      " 0.79562761 0.79441562 0.80780781 0.81176471]\n"
     ]
    }
   ],
   "source": [
    "print(forestscores10)"
   ]
  },
  {
   "cell_type": "code",
   "execution_count": 15,
   "metadata": {},
   "outputs": [
    {
     "name": "stdout",
     "output_type": "stream",
     "text": [
      "[0.67414657 0.76108797 0.84236453 0.87301587 0.84126984 0.77577578\n",
      " 0.76510888 0.85767235 0.82604398 0.7641857 ]\n"
     ]
    }
   ],
   "source": [
    "print(forestscores100)"
   ]
  },
  {
   "cell_type": "code",
   "execution_count": 16,
   "metadata": {},
   "outputs": [
    {
     "name": "stdout",
     "output_type": "stream",
     "text": [
      "[0.67195386 0.76363636 0.79562761 0.88930072 0.84126984 0.74374374\n",
      " 0.78103617 0.87301587 0.84126984 0.77931034]\n"
     ]
    }
   ],
   "source": [
    "print(forestscores1000)"
   ]
  },
  {
   "cell_type": "markdown",
   "metadata": {},
   "source": [
    "## Apply SVM"
   ]
  },
  {
   "cell_type": "code",
   "execution_count": 17,
   "metadata": {},
   "outputs": [],
   "source": [
    "svmlinear = SVC(kernel='linear', random_state=0)\n",
    "svmpoly = SVC(kernel='poly', gamma='auto',random_state=0)\n",
    "svmrbf = SVC(kernel='rbf', gamma='auto',random_state=0)"
   ]
  },
  {
   "cell_type": "code",
   "execution_count": 18,
   "metadata": {},
   "outputs": [],
   "source": [
    "svmscoreslinear = cross_val_score(svmlinear, train_features, train_label, cv=10, scoring='f1_macro')\n",
    "svmscorespoly = cross_val_score(svmpoly, train_features, train_label, cv=10, scoring='f1_macro')\n",
    "svmscoresrbf = cross_val_score(svmrbf, train_features, train_label, cv=10, scoring='f1_macro')"
   ]
  },
  {
   "cell_type": "code",
   "execution_count": 19,
   "metadata": {},
   "outputs": [
    {
     "name": "stdout",
     "output_type": "stream",
     "text": [
      "[0.68869732 0.78040541 0.82706952 0.84236453 0.82706952 0.79441562\n",
      " 0.81176471 0.82706952 0.84126984 0.82706952]\n"
     ]
    }
   ],
   "source": [
    "print(svmscoreslinear)"
   ]
  },
  {
   "cell_type": "code",
   "execution_count": 20,
   "metadata": {},
   "outputs": [
    {
     "name": "stdout",
     "output_type": "stream",
     "text": [
      "[0.56081081 0.7074153  0.82808303 0.76510888 0.73431013 0.76556777\n",
      " 0.78103617 0.70130189 0.84375    0.74603175]\n"
     ]
    }
   ],
   "source": [
    "print(svmscorespoly)"
   ]
  },
  {
   "cell_type": "code",
   "execution_count": 21,
   "metadata": {},
   "outputs": [
    {
     "name": "stdout",
     "output_type": "stream",
     "text": [
      "[0.70319635 0.78040541 0.81231672 0.85851142 0.81083744 0.77777778\n",
      " 0.79562761 0.81083744 0.80780781 0.7964277 ]\n"
     ]
    }
   ],
   "source": [
    "print(svmscoresrbf)"
   ]
  },
  {
   "cell_type": "markdown",
   "metadata": {},
   "source": [
    "## Compute mean"
   ]
  },
  {
   "cell_type": "code",
   "execution_count": 22,
   "metadata": {
    "scrolled": true
   },
   "outputs": [
    {
     "name": "stdout",
     "output_type": "stream",
     "text": [
      "F1 score of decision tree: 0.70 (+/- 0.10)\n"
     ]
    }
   ],
   "source": [
    "print(\"F1 score of decision tree: %0.2f (+/- %0.2f)\" % (treescores.mean(), treescores.std() * 1.96))"
   ]
  },
  {
   "cell_type": "code",
   "execution_count": 23,
   "metadata": {},
   "outputs": [
    {
     "name": "stdout",
     "output_type": "stream",
     "text": [
      "F1 score of forest with 10 trees: 0.79 (+/- 0.07)\n"
     ]
    }
   ],
   "source": [
    "print(\"F1 score of forest with 10 trees: %0.2f (+/- %0.2f)\" % (forestscores10.mean(), forestscores10.std() * 1.96))\n"
   ]
  },
  {
   "cell_type": "code",
   "execution_count": 24,
   "metadata": {},
   "outputs": [
    {
     "name": "stdout",
     "output_type": "stream",
     "text": [
      "F1 score of forest with 100 trees: 0.80 (+/- 0.11)\n"
     ]
    }
   ],
   "source": [
    "print(\"F1 score of forest with 100 trees: %0.2f (+/- %0.2f)\" % (forestscores100.mean(), forestscores100.std() * 1.96))\n"
   ]
  },
  {
   "cell_type": "code",
   "execution_count": 25,
   "metadata": {},
   "outputs": [
    {
     "name": "stdout",
     "output_type": "stream",
     "text": [
      "F1 score of forest with 1000 trees: 0.80 (+/- 0.12)\n"
     ]
    }
   ],
   "source": [
    "print(\"F1 score of forest with 1000 trees: %0.2f (+/- %0.2f)\" % (forestscores1000.mean(), forestscores1000.std() * 1.96))\n"
   ]
  },
  {
   "cell_type": "code",
   "execution_count": 26,
   "metadata": {},
   "outputs": [
    {
     "name": "stdout",
     "output_type": "stream",
     "text": [
      "F1 score of Linear SVM: 0.81 (+/- 0.09)\n"
     ]
    }
   ],
   "source": [
    "print(\"F1 score of Linear SVM: %0.2f (+/- %0.2f)\" % (svmscoreslinear.mean(), svmscoreslinear.std() * 1.96))\n"
   ]
  },
  {
   "cell_type": "code",
   "execution_count": 27,
   "metadata": {},
   "outputs": [
    {
     "name": "stdout",
     "output_type": "stream",
     "text": [
      "F1 score of Poly SVM: 0.74 (+/- 0.15)\n"
     ]
    }
   ],
   "source": [
    "print(\"F1 score of Poly SVM: %0.2f (+/- %0.2f)\" % (svmscorespoly.mean(), svmscorespoly.std() * 1.96))\n"
   ]
  },
  {
   "cell_type": "code",
   "execution_count": 28,
   "metadata": {},
   "outputs": [
    {
     "name": "stdout",
     "output_type": "stream",
     "text": [
      "F1 score of RBF SVM: 0.80 (+/- 0.07)\n"
     ]
    }
   ],
   "source": [
    "print(\"F1 score of RBF SVM: %0.2f (+/- %0.2f)\" % (svmscoresrbf.mean(), svmscoresrbf.std() * 1.96))"
   ]
  },
  {
   "cell_type": "markdown",
   "metadata": {},
   "source": [
    "Train the best performing model of each type on the whole train data set"
   ]
  },
  {
   "cell_type": "code",
   "execution_count": 29,
   "metadata": {},
   "outputs": [],
   "source": [
    "best_forest = forest100.fit(train_features, train_label)\n"
   ]
  },
  {
   "cell_type": "code",
   "execution_count": 30,
   "metadata": {},
   "outputs": [],
   "source": [
    "best_svm = svmlinear.fit(train_features, train_label)"
   ]
  },
  {
   "cell_type": "markdown",
   "metadata": {},
   "source": [
    "Run the model on test data"
   ]
  },
  {
   "cell_type": "code",
   "execution_count": 31,
   "metadata": {},
   "outputs": [],
   "source": [
    "ypred_best_forest = best_forest.predict(test_features)"
   ]
  },
  {
   "cell_type": "code",
   "execution_count": 32,
   "metadata": {},
   "outputs": [],
   "source": [
    "ypred_best_svm = best_svm.predict(test_features)"
   ]
  },
  {
   "cell_type": "markdown",
   "metadata": {},
   "source": [
    "Prepare report for best model of each type - Forest"
   ]
  },
  {
   "cell_type": "code",
   "execution_count": 33,
   "metadata": {},
   "outputs": [
    {
     "name": "stdout",
     "output_type": "stream",
     "text": [
      "              precision    recall  f1-score   support\n",
      "\n",
      "           0       0.81      0.77      0.79       117\n",
      "           1       0.84      0.87      0.85       159\n",
      "\n",
      "    accuracy                           0.83       276\n",
      "   macro avg       0.82      0.82      0.82       276\n",
      "weighted avg       0.83      0.83      0.83       276\n",
      "\n"
     ]
    }
   ],
   "source": [
    "print(metrics.classification_report(test_label, ypred_best_forest))"
   ]
  },
  {
   "cell_type": "code",
   "execution_count": 34,
   "metadata": {},
   "outputs": [
    {
     "name": "stdout",
     "output_type": "stream",
     "text": [
      "0.83\n"
     ]
    }
   ],
   "source": [
    "print(round(metrics.accuracy_score(test_label,ypred_best_forest),ndigits=2))"
   ]
  },
  {
   "cell_type": "code",
   "execution_count": 35,
   "metadata": {},
   "outputs": [
    {
     "name": "stdout",
     "output_type": "stream",
     "text": [
      "0.84\n"
     ]
    }
   ],
   "source": [
    "print(round(metrics.precision_score(test_label,ypred_best_forest),ndigits=2))"
   ]
  },
  {
   "cell_type": "code",
   "execution_count": 36,
   "metadata": {},
   "outputs": [
    {
     "name": "stdout",
     "output_type": "stream",
     "text": [
      "0.87\n"
     ]
    }
   ],
   "source": [
    "print(round(metrics.recall_score(test_label,ypred_best_forest),ndigits=2))"
   ]
  },
  {
   "cell_type": "code",
   "execution_count": 37,
   "metadata": {},
   "outputs": [
    {
     "name": "stdout",
     "output_type": "stream",
     "text": [
      "0.85\n"
     ]
    }
   ],
   "source": [
    "print(round(metrics.f1_score(test_label,ypred_best_forest),ndigits=2))"
   ]
  },
  {
   "cell_type": "code",
   "execution_count": 38,
   "metadata": {},
   "outputs": [
    {
     "name": "stdout",
     "output_type": "stream",
     "text": [
      "0.82\n"
     ]
    }
   ],
   "source": [
    "print(round(metrics.roc_auc_score(test_label,ypred_best_forest),ndigits=2))"
   ]
  },
  {
   "cell_type": "code",
   "execution_count": 39,
   "metadata": {},
   "outputs": [
    {
     "name": "stdout",
     "output_type": "stream",
     "text": [
      "              precision    recall  f1-score   support\n",
      "\n",
      "           0       0.77      0.79      0.78       117\n",
      "           1       0.84      0.82      0.83       159\n",
      "\n",
      "    accuracy                           0.81       276\n",
      "   macro avg       0.80      0.81      0.80       276\n",
      "weighted avg       0.81      0.81      0.81       276\n",
      "\n"
     ]
    }
   ],
   "source": [
    "print(metrics.classification_report(test_label, ypred_best_svm))"
   ]
  },
  {
   "cell_type": "code",
   "execution_count": 40,
   "metadata": {},
   "outputs": [
    {
     "name": "stdout",
     "output_type": "stream",
     "text": [
      "0.81\n"
     ]
    }
   ],
   "source": [
    "print(round(metrics.accuracy_score(test_label,ypred_best_svm),ndigits=2))"
   ]
  },
  {
   "cell_type": "code",
   "execution_count": 41,
   "metadata": {},
   "outputs": [
    {
     "name": "stdout",
     "output_type": "stream",
     "text": [
      "0.84\n"
     ]
    }
   ],
   "source": [
    "print(round(metrics.precision_score(test_label,ypred_best_svm),ndigits=2))"
   ]
  },
  {
   "cell_type": "code",
   "execution_count": 42,
   "metadata": {},
   "outputs": [
    {
     "name": "stdout",
     "output_type": "stream",
     "text": [
      "0.82\n"
     ]
    }
   ],
   "source": [
    "print(round(metrics.recall_score(test_label,ypred_best_svm),ndigits=2))"
   ]
  },
  {
   "cell_type": "code",
   "execution_count": 43,
   "metadata": {},
   "outputs": [
    {
     "name": "stdout",
     "output_type": "stream",
     "text": [
      "0.83\n"
     ]
    }
   ],
   "source": [
    "print(round(metrics.f1_score(test_label,ypred_best_svm),ndigits=2))"
   ]
  },
  {
   "cell_type": "code",
   "execution_count": 44,
   "metadata": {},
   "outputs": [
    {
     "name": "stdout",
     "output_type": "stream",
     "text": [
      "0.81\n"
     ]
    }
   ],
   "source": [
    "print(round(metrics.roc_auc_score(test_label,ypred_best_svm),ndigits=2))"
   ]
  },
  {
   "cell_type": "markdown",
   "metadata": {},
   "source": [
    "## Heavens part (KNN, 2 label)"
   ]
  },
  {
   "cell_type": "code",
   "execution_count": 45,
   "metadata": {},
   "outputs": [
    {
     "data": {
      "text/plain": [
       "age         0\n",
       "sex         0\n",
       "cp          0\n",
       "trestbps    0\n",
       "chol        0\n",
       "fbs         0\n",
       "restecg     0\n",
       "thalach     0\n",
       "exang       0\n",
       "oldpeak     0\n",
       "slope       0\n",
       "class       0\n",
       "dtype: int64"
      ]
     },
     "execution_count": 45,
     "metadata": {},
     "output_type": "execute_result"
    }
   ],
   "source": [
    "patients.isnull().sum()\n",
    "patients.isna().sum()"
   ]
  },
  {
   "cell_type": "code",
   "execution_count": 46,
   "metadata": {},
   "outputs": [
    {
     "data": {
      "text/plain": [
       "age         float64\n",
       "sex         float64\n",
       "cp          float64\n",
       "trestbps    float64\n",
       "chol        float64\n",
       "fbs         float64\n",
       "restecg     float64\n",
       "thalach     float64\n",
       "exang       float64\n",
       "oldpeak     float64\n",
       "slope       float64\n",
       "class         int64\n",
       "dtype: object"
      ]
     },
     "execution_count": 46,
     "metadata": {},
     "output_type": "execute_result"
    }
   ],
   "source": [
    "patients.dtypes ## to assure all values have correct datatype"
   ]
  },
  {
   "cell_type": "markdown",
   "metadata": {},
   "source": [
    "#### Visualizing the colums of the training dataset"
   ]
  },
  {
   "cell_type": "code",
   "execution_count": 47,
   "metadata": {},
   "outputs": [],
   "source": [
    "cols = train_features.columns"
   ]
  },
  {
   "cell_type": "markdown",
   "metadata": {},
   "source": [
    "#### Scaling the data before importing to KNN (Very necessary)"
   ]
  },
  {
   "cell_type": "code",
   "execution_count": 48,
   "metadata": {},
   "outputs": [],
   "source": [
    "from sklearn.preprocessing import StandardScaler\n",
    "\n",
    "scaler = StandardScaler()\n",
    "\n",
    "train_features = scaler.fit_transform(train_features)\n",
    "\n",
    "test_features = scaler.transform(test_features)"
   ]
  },
  {
   "cell_type": "markdown",
   "metadata": {},
   "source": [
    "#### Change the scaled data in to dataframe"
   ]
  },
  {
   "cell_type": "code",
   "execution_count": 49,
   "metadata": {},
   "outputs": [],
   "source": [
    "train_features = pd.DataFrame(train_features, columns=[cols])\n",
    "test_features = pd.DataFrame(test_features, columns=[cols])"
   ]
  },
  {
   "cell_type": "markdown",
   "metadata": {},
   "source": [
    "#### Visualizind the scalled data "
   ]
  },
  {
   "cell_type": "code",
   "execution_count": 50,
   "metadata": {},
   "outputs": [
    {
     "data": {
      "text/html": [
       "<div>\n",
       "<style scoped>\n",
       "    .dataframe tbody tr th:only-of-type {\n",
       "        vertical-align: middle;\n",
       "    }\n",
       "\n",
       "    .dataframe tbody tr th {\n",
       "        vertical-align: top;\n",
       "    }\n",
       "\n",
       "    .dataframe thead tr th {\n",
       "        text-align: left;\n",
       "    }\n",
       "</style>\n",
       "<table border=\"1\" class=\"dataframe\">\n",
       "  <thead>\n",
       "    <tr>\n",
       "      <th></th>\n",
       "      <th>age</th>\n",
       "      <th>sex</th>\n",
       "      <th>cp</th>\n",
       "      <th>trestbps</th>\n",
       "      <th>chol</th>\n",
       "      <th>fbs</th>\n",
       "      <th>restecg</th>\n",
       "      <th>thalach</th>\n",
       "      <th>exang</th>\n",
       "      <th>oldpeak</th>\n",
       "      <th>slope</th>\n",
       "    </tr>\n",
       "  </thead>\n",
       "  <tbody>\n",
       "    <tr>\n",
       "      <th>0</th>\n",
       "      <td>0.739356</td>\n",
       "      <td>0.528095</td>\n",
       "      <td>0.817827</td>\n",
       "      <td>-0.333494</td>\n",
       "      <td>0.532984</td>\n",
       "      <td>-0.371884</td>\n",
       "      <td>1.742382</td>\n",
       "      <td>0.106674</td>\n",
       "      <td>1.352107</td>\n",
       "      <td>1.840300</td>\n",
       "      <td>0.302320</td>\n",
       "    </tr>\n",
       "    <tr>\n",
       "      <th>1</th>\n",
       "      <td>1.268999</td>\n",
       "      <td>-1.893598</td>\n",
       "      <td>-0.280593</td>\n",
       "      <td>0.480030</td>\n",
       "      <td>2.048218</td>\n",
       "      <td>2.689009</td>\n",
       "      <td>1.742382</td>\n",
       "      <td>0.721407</td>\n",
       "      <td>-0.739586</td>\n",
       "      <td>-0.041475</td>\n",
       "      <td>-1.638577</td>\n",
       "    </tr>\n",
       "    <tr>\n",
       "      <th>2</th>\n",
       "      <td>-0.955503</td>\n",
       "      <td>0.528095</td>\n",
       "      <td>0.817827</td>\n",
       "      <td>-0.062319</td>\n",
       "      <td>0.066026</td>\n",
       "      <td>-0.371884</td>\n",
       "      <td>0.500862</td>\n",
       "      <td>-0.431216</td>\n",
       "      <td>-0.739586</td>\n",
       "      <td>-0.794186</td>\n",
       "      <td>0.302320</td>\n",
       "    </tr>\n",
       "    <tr>\n",
       "      <th>3</th>\n",
       "      <td>-0.955503</td>\n",
       "      <td>0.528095</td>\n",
       "      <td>-0.280593</td>\n",
       "      <td>-0.604669</td>\n",
       "      <td>0.228032</td>\n",
       "      <td>-0.371884</td>\n",
       "      <td>-0.740657</td>\n",
       "      <td>1.182456</td>\n",
       "      <td>-0.739586</td>\n",
       "      <td>-0.794186</td>\n",
       "      <td>-1.638577</td>\n",
       "    </tr>\n",
       "    <tr>\n",
       "      <th>4</th>\n",
       "      <td>0.103784</td>\n",
       "      <td>0.528095</td>\n",
       "      <td>-0.280593</td>\n",
       "      <td>-0.604669</td>\n",
       "      <td>0.332859</td>\n",
       "      <td>-0.371884</td>\n",
       "      <td>-0.740657</td>\n",
       "      <td>0.452461</td>\n",
       "      <td>1.352107</td>\n",
       "      <td>0.617146</td>\n",
       "      <td>0.302320</td>\n",
       "    </tr>\n",
       "  </tbody>\n",
       "</table>\n",
       "</div>"
      ],
      "text/plain": [
       "        age       sex        cp  trestbps      chol       fbs   restecg  \\\n",
       "0  0.739356  0.528095  0.817827 -0.333494  0.532984 -0.371884  1.742382   \n",
       "1  1.268999 -1.893598 -0.280593  0.480030  2.048218  2.689009  1.742382   \n",
       "2 -0.955503  0.528095  0.817827 -0.062319  0.066026 -0.371884  0.500862   \n",
       "3 -0.955503  0.528095 -0.280593 -0.604669  0.228032 -0.371884 -0.740657   \n",
       "4  0.103784  0.528095 -0.280593 -0.604669  0.332859 -0.371884 -0.740657   \n",
       "\n",
       "    thalach     exang   oldpeak     slope  \n",
       "0  0.106674  1.352107  1.840300  0.302320  \n",
       "1  0.721407 -0.739586 -0.041475 -1.638577  \n",
       "2 -0.431216 -0.739586 -0.794186  0.302320  \n",
       "3  1.182456 -0.739586 -0.794186 -1.638577  \n",
       "4  0.452461  1.352107  0.617146  0.302320  "
      ]
     },
     "execution_count": 50,
     "metadata": {},
     "output_type": "execute_result"
    }
   ],
   "source": [
    "train_features.head()"
   ]
  },
  {
   "cell_type": "code",
   "execution_count": 51,
   "metadata": {},
   "outputs": [
    {
     "data": {
      "text/html": [
       "<div>\n",
       "<style scoped>\n",
       "    .dataframe tbody tr th:only-of-type {\n",
       "        vertical-align: middle;\n",
       "    }\n",
       "\n",
       "    .dataframe tbody tr th {\n",
       "        vertical-align: top;\n",
       "    }\n",
       "\n",
       "    .dataframe thead tr th {\n",
       "        text-align: left;\n",
       "    }\n",
       "</style>\n",
       "<table border=\"1\" class=\"dataframe\">\n",
       "  <thead>\n",
       "    <tr>\n",
       "      <th></th>\n",
       "      <th>age</th>\n",
       "      <th>sex</th>\n",
       "      <th>cp</th>\n",
       "      <th>trestbps</th>\n",
       "      <th>chol</th>\n",
       "      <th>fbs</th>\n",
       "      <th>restecg</th>\n",
       "      <th>thalach</th>\n",
       "      <th>exang</th>\n",
       "      <th>oldpeak</th>\n",
       "      <th>slope</th>\n",
       "    </tr>\n",
       "  </thead>\n",
       "  <tbody>\n",
       "    <tr>\n",
       "      <th>0</th>\n",
       "      <td>0.209712</td>\n",
       "      <td>0.528095</td>\n",
       "      <td>0.817827</td>\n",
       "      <td>0.588499</td>\n",
       "      <td>0.247091</td>\n",
       "      <td>-0.371884</td>\n",
       "      <td>0.500862</td>\n",
       "      <td>0.414041</td>\n",
       "      <td>1.352107</td>\n",
       "      <td>1.558034</td>\n",
       "      <td>-1.638577</td>\n",
       "    </tr>\n",
       "    <tr>\n",
       "      <th>1</th>\n",
       "      <td>-0.531788</td>\n",
       "      <td>0.528095</td>\n",
       "      <td>0.817827</td>\n",
       "      <td>1.564728</td>\n",
       "      <td>0.628282</td>\n",
       "      <td>-0.371884</td>\n",
       "      <td>-0.740657</td>\n",
       "      <td>-1.353315</td>\n",
       "      <td>1.352107</td>\n",
       "      <td>0.146702</td>\n",
       "      <td>0.302320</td>\n",
       "    </tr>\n",
       "    <tr>\n",
       "      <th>2</th>\n",
       "      <td>-0.849574</td>\n",
       "      <td>0.528095</td>\n",
       "      <td>-2.477433</td>\n",
       "      <td>-1.147018</td>\n",
       "      <td>0.590163</td>\n",
       "      <td>-0.371884</td>\n",
       "      <td>-0.740657</td>\n",
       "      <td>-0.239112</td>\n",
       "      <td>-0.739586</td>\n",
       "      <td>0.334880</td>\n",
       "      <td>0.302320</td>\n",
       "    </tr>\n",
       "    <tr>\n",
       "      <th>3</th>\n",
       "      <td>1.692714</td>\n",
       "      <td>0.528095</td>\n",
       "      <td>0.817827</td>\n",
       "      <td>0.051574</td>\n",
       "      <td>0.828407</td>\n",
       "      <td>2.689009</td>\n",
       "      <td>0.500862</td>\n",
       "      <td>-0.027798</td>\n",
       "      <td>-0.739586</td>\n",
       "      <td>0.052614</td>\n",
       "      <td>0.302320</td>\n",
       "    </tr>\n",
       "    <tr>\n",
       "      <th>4</th>\n",
       "      <td>-0.214002</td>\n",
       "      <td>-1.893598</td>\n",
       "      <td>-0.280593</td>\n",
       "      <td>-0.604669</td>\n",
       "      <td>0.885586</td>\n",
       "      <td>-0.371884</td>\n",
       "      <td>1.742382</td>\n",
       "      <td>0.721407</td>\n",
       "      <td>-0.739586</td>\n",
       "      <td>-0.229653</td>\n",
       "      <td>-1.638577</td>\n",
       "    </tr>\n",
       "  </tbody>\n",
       "</table>\n",
       "</div>"
      ],
      "text/plain": [
       "        age       sex        cp  trestbps      chol       fbs   restecg  \\\n",
       "0  0.209712  0.528095  0.817827  0.588499  0.247091 -0.371884  0.500862   \n",
       "1 -0.531788  0.528095  0.817827  1.564728  0.628282 -0.371884 -0.740657   \n",
       "2 -0.849574  0.528095 -2.477433 -1.147018  0.590163 -0.371884 -0.740657   \n",
       "3  1.692714  0.528095  0.817827  0.051574  0.828407  2.689009  0.500862   \n",
       "4 -0.214002 -1.893598 -0.280593 -0.604669  0.885586 -0.371884  1.742382   \n",
       "\n",
       "    thalach     exang   oldpeak     slope  \n",
       "0  0.414041  1.352107  1.558034 -1.638577  \n",
       "1 -1.353315  1.352107  0.146702  0.302320  \n",
       "2 -0.239112 -0.739586  0.334880  0.302320  \n",
       "3 -0.027798 -0.739586  0.052614  0.302320  \n",
       "4  0.721407 -0.739586 -0.229653 -1.638577  "
      ]
     },
     "execution_count": 51,
     "metadata": {},
     "output_type": "execute_result"
    }
   ],
   "source": [
    "test_features.head()"
   ]
  },
  {
   "cell_type": "markdown",
   "metadata": {},
   "source": [
    "### Creating KNN Model K=3"
   ]
  },
  {
   "cell_type": "code",
   "execution_count": 52,
   "metadata": {},
   "outputs": [
    {
     "name": "stdout",
     "output_type": "stream",
     "text": [
      "confussion matrix\n",
      "[[ 82  35]\n",
      " [ 26 133]]\n",
      "-------------------------------------------\n",
      "Accuracy of K-NeighborsClassifier: 77.89855072463769 \n",
      "\n",
      "-------------------------------------------\n",
      "              precision    recall  f1-score   support\n",
      "\n",
      "           0       0.76      0.70      0.73       117\n",
      "           1       0.79      0.84      0.81       159\n",
      "\n",
      "    accuracy                           0.78       276\n",
      "   macro avg       0.78      0.77      0.77       276\n",
      "weighted avg       0.78      0.78      0.78       276\n",
      "\n"
     ]
    }
   ],
   "source": [
    "knn_3 = KNeighborsClassifier(n_neighbors=3)\n",
    "knn_3.fit(train_features, train_label)\n",
    "knn_3_predicted = knn_3.predict(test_features)\n",
    "knn_3_conf_matrix = confusion_matrix(test_label, knn_3_predicted)\n",
    "knn_3_acc_score = accuracy_score(test_label, knn_3_predicted)\n",
    "print(\"confussion matrix\")\n",
    "print(knn_3_conf_matrix)\n",
    "print(\"-------------------------------------------\")\n",
    "print(\"Accuracy of K-NeighborsClassifier:\",knn_3_acc_score*100,'\\n')\n",
    "print(\"-------------------------------------------\")\n",
    "print(classification_report(test_label,knn_3_predicted))\n"
   ]
  },
  {
   "cell_type": "markdown",
   "metadata": {},
   "source": [
    "### Creating KNN Model K=5"
   ]
  },
  {
   "cell_type": "code",
   "execution_count": 53,
   "metadata": {},
   "outputs": [
    {
     "name": "stdout",
     "output_type": "stream",
     "text": [
      "confussion matrix\n",
      "[[ 84  33]\n",
      " [ 21 138]]\n",
      "-------------------------------------------\n",
      "Accuracy of K-NeighborsClassifier: 80.43478260869566 \n",
      "\n",
      "-------------------------------------------\n",
      "              precision    recall  f1-score   support\n",
      "\n",
      "           0       0.80      0.72      0.76       117\n",
      "           1       0.81      0.87      0.84       159\n",
      "\n",
      "    accuracy                           0.80       276\n",
      "   macro avg       0.80      0.79      0.80       276\n",
      "weighted avg       0.80      0.80      0.80       276\n",
      "\n"
     ]
    }
   ],
   "source": [
    "knn_5 = KNeighborsClassifier(n_neighbors=5)\n",
    "knn_5.fit(train_features, train_label)\n",
    "knn_5_predicted = knn_5.predict(test_features)\n",
    "knn_5_conf_matrix = confusion_matrix(test_label, knn_5_predicted)\n",
    "knn_5_acc_score = accuracy_score(test_label, knn_5_predicted)\n",
    "print(\"confussion matrix\")\n",
    "print(knn_5_conf_matrix)\n",
    "print(\"-------------------------------------------\")\n",
    "print(\"Accuracy of K-NeighborsClassifier:\",knn_5_acc_score*100,'\\n')\n",
    "print(\"-------------------------------------------\")\n",
    "print(classification_report(test_label,knn_5_predicted))"
   ]
  },
  {
   "cell_type": "markdown",
   "metadata": {},
   "source": [
    "### Creating KNN Model K=10"
   ]
  },
  {
   "cell_type": "code",
   "execution_count": 54,
   "metadata": {},
   "outputs": [
    {
     "name": "stdout",
     "output_type": "stream",
     "text": [
      "confussion matrix\n",
      "[[ 86  31]\n",
      " [ 26 133]]\n",
      "-------------------------------------------\n",
      "Accuracy of K-NeighborsClassifier: 79.34782608695652 \n",
      "\n",
      "-------------------------------------------\n",
      "              precision    recall  f1-score   support\n",
      "\n",
      "           0       0.77      0.74      0.75       117\n",
      "           1       0.81      0.84      0.82       159\n",
      "\n",
      "    accuracy                           0.79       276\n",
      "   macro avg       0.79      0.79      0.79       276\n",
      "weighted avg       0.79      0.79      0.79       276\n",
      "\n"
     ]
    }
   ],
   "source": [
    "knn_10 = KNeighborsClassifier(n_neighbors=10)\n",
    "knn_10.fit(train_features, train_label)\n",
    "knn_10_predicted = knn_10.predict(test_features)\n",
    "knn_10_conf_matrix = confusion_matrix(test_label, knn_10_predicted)\n",
    "knn_10_acc_score = accuracy_score(test_label, knn_10_predicted)\n",
    "print(\"confussion matrix\")\n",
    "print(knn_10_conf_matrix)\n",
    "print(\"-------------------------------------------\")\n",
    "print(\"Accuracy of K-NeighborsClassifier:\",knn_10_acc_score*100,'\\n')\n",
    "print(\"-------------------------------------------\")\n",
    "print(classification_report(test_label,knn_10_predicted))"
   ]
  },
  {
   "cell_type": "markdown",
   "metadata": {},
   "source": [
    "### Creating KNN Model K=13"
   ]
  },
  {
   "cell_type": "code",
   "execution_count": 55,
   "metadata": {},
   "outputs": [
    {
     "name": "stdout",
     "output_type": "stream",
     "text": [
      "confussion matrix\n",
      "[[ 83  34]\n",
      " [ 22 137]]\n",
      "roc_auc\n",
      "-------------------------------------------\n",
      "Accuracy of K-NeighborsClassifier: 79.71014492753623 \n",
      "\n",
      "-------------------------------------------\n",
      "              precision    recall  f1-score   support\n",
      "\n",
      "           0       0.79      0.71      0.75       117\n",
      "           1       0.80      0.86      0.83       159\n",
      "\n",
      "    accuracy                           0.80       276\n",
      "   macro avg       0.80      0.79      0.79       276\n",
      "weighted avg       0.80      0.80      0.80       276\n",
      "\n"
     ]
    }
   ],
   "source": [
    "knn_13= KNeighborsClassifier(n_neighbors=13)\n",
    "knn_13.fit(train_features, train_label)\n",
    "knn_13_predicted = knn_13.predict(test_features)\n",
    "knn_13_conf_matrix = confusion_matrix(test_label, knn_13_predicted)\n",
    "knn_13_acc_score = accuracy_score(test_label, knn_13_predicted)\n",
    "print(\"confussion matrix\")\n",
    "print(knn_13_conf_matrix)\n",
    "print(\"roc_auc\")\n",
    "print(\"-------------------------------------------\")\n",
    "print(\"Accuracy of K-NeighborsClassifier:\",knn_13_acc_score*100,'\\n')\n",
    "print(\"-------------------------------------------\")\n",
    "print(classification_report(test_label,knn_13_predicted))"
   ]
  },
  {
   "cell_type": "markdown",
   "metadata": {},
   "source": [
    "### ROC_AUC scores of all KNN models before cross validation"
   ]
  },
  {
   "cell_type": "code",
   "execution_count": 56,
   "metadata": {},
   "outputs": [
    {
     "name": "stdout",
     "output_type": "stream",
     "text": [
      "ROC AUC_KNN_3 : 76.87\n",
      "ROC AUC_KNN_5 : 79.29\n",
      "ROC AUC_KNN_10 : 78.58\n",
      "ROC AUC_KNN_13 : 78.55\n"
     ]
    }
   ],
   "source": [
    "from sklearn.metrics import roc_auc_score\n",
    "\n",
    "ROC_AUC = roc_auc_score(test_label, knn_3.predict(test_features))\n",
    "\n",
    "print('ROC AUC_KNN_3 : {:.2f}'.format(ROC_AUC*100))\n",
    "\n",
    "from sklearn.metrics import roc_auc_score\n",
    "\n",
    "ROC_AUC = roc_auc_score(test_label, knn_5.predict(test_features))\n",
    "\n",
    "print('ROC AUC_KNN_5 : {:.2f}'.format(ROC_AUC*100))\n",
    "\n",
    "from sklearn.metrics import roc_auc_score\n",
    "\n",
    "ROC_AUC = roc_auc_score(test_label, knn_10.predict(test_features))\n",
    "\n",
    "print('ROC AUC_KNN_10 : {:.2f}'.format(ROC_AUC*100))\n",
    "\n",
    "from sklearn.metrics import roc_auc_score\n",
    "\n",
    "ROC_AUC = roc_auc_score(test_label, knn_13.predict(test_features))\n",
    "\n",
    "print('ROC AUC_KNN_13 : {:.2f}'.format(ROC_AUC*100))"
   ]
  },
  {
   "cell_type": "markdown",
   "metadata": {},
   "source": [
    "## Cross validation"
   ]
  },
  {
   "cell_type": "markdown",
   "metadata": {},
   "source": [
    "##### According the ROC_AUC score of each KNN model, KNN with K=5 outperfomed the other models. So the cross validation is performed only on KNN with K= 5"
   ]
  },
  {
   "cell_type": "code",
   "execution_count": 57,
   "metadata": {},
   "outputs": [
    {
     "name": "stdout",
     "output_type": "stream",
     "text": [
      "Cross_validated_KNN_5_on value_5 : 78.11 \n",
      "\n",
      "Cross_validated_KNN_5_on value_7 : 79.42 \n",
      "\n",
      "Cross_validated_KNN_5_on value_10 : 78.41 \n",
      "\n"
     ]
    }
   ],
   "source": [
    "from sklearn.model_selection import cross_val_score\n",
    "\n",
    "Cross_validated= cross_val_score(knn_5, train_features, train_label, cv=5, scoring='f1_macro').mean()\n",
    "\n",
    "print('Cross_validated_KNN_5_on value_5 : {:.2f}'.format(Cross_validated*100),'\\n')\n",
    "\n",
    "Cross_validated= cross_val_score(knn_5, train_features, train_label, cv=7, scoring='f1_macro').mean()\n",
    "\n",
    "print('Cross_validated_KNN_5_on value_7 : {:.2f}'.format(Cross_validated*100),'\\n')\n",
    "\n",
    "best_knn_5=Cross_validated\n",
    "\n",
    "Cross_validated= cross_val_score(knn_5, train_features, train_label, cv=10, scoring='f1_macro').mean()\n",
    "\n",
    "print('Cross_validated_KNN_5_on value_10 : {:.2f}'.format(Cross_validated*100),'\\n')\n",
    "\n",
    "\n",
    "## Crossvalidation of K-VALUE with the highets accuracy\n",
    "# CV performed on the best KKN model (K=5) on different CV values and the best result is CV 10"
   ]
  },
  {
   "cell_type": "code",
   "execution_count": 58,
   "metadata": {},
   "outputs": [
    {
     "data": {
      "text/html": [
       "<div>\n",
       "<style scoped>\n",
       "    .dataframe tbody tr th:only-of-type {\n",
       "        vertical-align: middle;\n",
       "    }\n",
       "\n",
       "    .dataframe tbody tr th {\n",
       "        vertical-align: top;\n",
       "    }\n",
       "\n",
       "    .dataframe thead th {\n",
       "        text-align: right;\n",
       "    }\n",
       "</style>\n",
       "<table border=\"1\" class=\"dataframe\">\n",
       "  <thead>\n",
       "    <tr style=\"text-align: right;\">\n",
       "      <th></th>\n",
       "      <th>Result of all models analayes after CV</th>\n",
       "    </tr>\n",
       "  </thead>\n",
       "  <tbody>\n",
       "    <tr>\n",
       "      <th>0</th>\n",
       "      <td>KNN</td>\n",
       "    </tr>\n",
       "    <tr>\n",
       "      <th>1</th>\n",
       "      <td>79.418276</td>\n",
       "    </tr>\n",
       "  </tbody>\n",
       "</table>\n",
       "</div>"
      ],
      "text/plain": [
       "  Result of all models analayes after CV\n",
       "0                                    KNN\n",
       "1                              79.418276"
      ]
     },
     "execution_count": 58,
     "metadata": {},
     "output_type": "execute_result"
    }
   ],
   "source": [
    "model_ev = pd.DataFrame({'Result of all models analayes after CV': ['KNN',best_knn_5*100]})\n",
    "model_ev  \n",
    "\n",
    "## summary of accuracy of all three models after CV"
   ]
  },
  {
   "cell_type": "code",
   "execution_count": null,
   "metadata": {},
   "outputs": [],
   "source": []
  }
 ],
 "metadata": {
  "interpreter": {
   "hash": "44040a0c03ceedf56e7627ce74401665018171d527c73e9472d1273ea9459760"
  },
  "kernelspec": {
   "display_name": "Python 3 (ipykernel)",
   "language": "python",
   "name": "python3"
  },
  "language_info": {
   "codemirror_mode": {
    "name": "ipython",
    "version": 3
   },
   "file_extension": ".py",
   "mimetype": "text/x-python",
   "name": "python",
   "nbconvert_exporter": "python",
   "pygments_lexer": "ipython3",
   "version": "3.9.7"
  }
 },
 "nbformat": 4,
 "nbformat_minor": 2
}
