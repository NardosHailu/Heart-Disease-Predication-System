{
 "cells": [
  {
   "cell_type": "markdown",
   "metadata": {},
   "source": [
    "# Final version (5 label)"
   ]
  },
  {
   "cell_type": "markdown",
   "metadata": {},
   "source": [
    "### Import packages"
   ]
  },
  {
   "cell_type": "code",
   "execution_count": 1,
   "metadata": {},
   "outputs": [],
   "source": [
    "import pandas as pd\n",
    "import numpy as np\n",
    "\n",
    "from sklearn import preprocessing\n",
    "from sklearn.model_selection import train_test_split\n",
    "from sklearn.model_selection import cross_val_score\n",
    "from sklearn import metrics\n",
    "from sklearn import tree\n",
    "from sklearn.ensemble import RandomForestClassifier\n",
    "from sklearn.svm import SVC\n",
    "from sklearn.neighbors import KNeighborsClassifier\n",
    "\n",
    "import seaborn as sns; sns.set()\n",
    "\n",
    "import matplotlib\n",
    "import matplotlib.pyplot as plt\n",
    "from sklearn.metrics import confusion_matrix, accuracy_score, roc_auc_score, roc_curve\n",
    "from sklearn.metrics import classification_report\n",
    "from sklearn.preprocessing import LabelBinarizer\n",
    "from sklearn import preprocessing\n"
   ]
  },
  {
   "cell_type": "markdown",
   "metadata": {},
   "source": [
    "Load the normalized data set"
   ]
  },
  {
   "cell_type": "code",
   "execution_count": 2,
   "metadata": {},
   "outputs": [
    {
     "data": {
      "text/plain": [
       "(918, 12)"
      ]
     },
     "execution_count": 2,
     "metadata": {},
     "output_type": "execute_result"
    }
   ],
   "source": [
    "patients = pd.read_csv('normalized_data.csv') #loading data\n",
    "patients.shape"
   ]
  },
  {
   "cell_type": "code",
   "execution_count": 3,
   "metadata": {},
   "outputs": [
    {
     "data": {
      "text/html": [
       "<div>\n",
       "<style scoped>\n",
       "    .dataframe tbody tr th:only-of-type {\n",
       "        vertical-align: middle;\n",
       "    }\n",
       "\n",
       "    .dataframe tbody tr th {\n",
       "        vertical-align: top;\n",
       "    }\n",
       "\n",
       "    .dataframe thead th {\n",
       "        text-align: right;\n",
       "    }\n",
       "</style>\n",
       "<table border=\"1\" class=\"dataframe\">\n",
       "  <thead>\n",
       "    <tr style=\"text-align: right;\">\n",
       "      <th></th>\n",
       "      <th>age</th>\n",
       "      <th>sex</th>\n",
       "      <th>cp</th>\n",
       "      <th>trestbps</th>\n",
       "      <th>chol</th>\n",
       "      <th>fbs</th>\n",
       "      <th>restecg</th>\n",
       "      <th>thalach</th>\n",
       "      <th>exang</th>\n",
       "      <th>oldpeak</th>\n",
       "      <th>slope</th>\n",
       "      <th>class</th>\n",
       "    </tr>\n",
       "  </thead>\n",
       "  <tbody>\n",
       "    <tr>\n",
       "      <th>0</th>\n",
       "      <td>0.714286</td>\n",
       "      <td>1.0</td>\n",
       "      <td>0.000000</td>\n",
       "      <td>0.725</td>\n",
       "      <td>0.386401</td>\n",
       "      <td>1.0</td>\n",
       "      <td>1.0</td>\n",
       "      <td>0.633803</td>\n",
       "      <td>0.0</td>\n",
       "      <td>0.556818</td>\n",
       "      <td>1.0</td>\n",
       "      <td>0</td>\n",
       "    </tr>\n",
       "    <tr>\n",
       "      <th>1</th>\n",
       "      <td>0.795918</td>\n",
       "      <td>1.0</td>\n",
       "      <td>1.000000</td>\n",
       "      <td>0.800</td>\n",
       "      <td>0.474295</td>\n",
       "      <td>0.0</td>\n",
       "      <td>1.0</td>\n",
       "      <td>0.338028</td>\n",
       "      <td>1.0</td>\n",
       "      <td>0.465909</td>\n",
       "      <td>0.5</td>\n",
       "      <td>2</td>\n",
       "    </tr>\n",
       "    <tr>\n",
       "      <th>2</th>\n",
       "      <td>0.795918</td>\n",
       "      <td>1.0</td>\n",
       "      <td>1.000000</td>\n",
       "      <td>0.600</td>\n",
       "      <td>0.379768</td>\n",
       "      <td>0.0</td>\n",
       "      <td>1.0</td>\n",
       "      <td>0.485915</td>\n",
       "      <td>1.0</td>\n",
       "      <td>0.590909</td>\n",
       "      <td>0.5</td>\n",
       "      <td>1</td>\n",
       "    </tr>\n",
       "    <tr>\n",
       "      <th>3</th>\n",
       "      <td>0.183673</td>\n",
       "      <td>1.0</td>\n",
       "      <td>0.666667</td>\n",
       "      <td>0.650</td>\n",
       "      <td>0.414594</td>\n",
       "      <td>0.0</td>\n",
       "      <td>0.0</td>\n",
       "      <td>0.894366</td>\n",
       "      <td>0.0</td>\n",
       "      <td>0.693182</td>\n",
       "      <td>1.0</td>\n",
       "      <td>0</td>\n",
       "    </tr>\n",
       "    <tr>\n",
       "      <th>4</th>\n",
       "      <td>0.265306</td>\n",
       "      <td>0.0</td>\n",
       "      <td>0.333333</td>\n",
       "      <td>0.650</td>\n",
       "      <td>0.338308</td>\n",
       "      <td>0.0</td>\n",
       "      <td>1.0</td>\n",
       "      <td>0.788732</td>\n",
       "      <td>0.0</td>\n",
       "      <td>0.454545</td>\n",
       "      <td>0.0</td>\n",
       "      <td>0</td>\n",
       "    </tr>\n",
       "  </tbody>\n",
       "</table>\n",
       "</div>"
      ],
      "text/plain": [
       "        age  sex        cp  trestbps      chol  fbs  restecg   thalach  exang  \\\n",
       "0  0.714286  1.0  0.000000     0.725  0.386401  1.0      1.0  0.633803    0.0   \n",
       "1  0.795918  1.0  1.000000     0.800  0.474295  0.0      1.0  0.338028    1.0   \n",
       "2  0.795918  1.0  1.000000     0.600  0.379768  0.0      1.0  0.485915    1.0   \n",
       "3  0.183673  1.0  0.666667     0.650  0.414594  0.0      0.0  0.894366    0.0   \n",
       "4  0.265306  0.0  0.333333     0.650  0.338308  0.0      1.0  0.788732    0.0   \n",
       "\n",
       "    oldpeak  slope  class  \n",
       "0  0.556818    1.0      0  \n",
       "1  0.465909    0.5      2  \n",
       "2  0.590909    0.5      1  \n",
       "3  0.693182    1.0      0  \n",
       "4  0.454545    0.0      0  "
      ]
     },
     "execution_count": 3,
     "metadata": {},
     "output_type": "execute_result"
    }
   ],
   "source": [
    "patients.head()"
   ]
  },
  {
   "cell_type": "markdown",
   "metadata": {},
   "source": [
    "##  Checking the data if it is balanced or not."
   ]
  },
  {
   "cell_type": "code",
   "execution_count": 4,
   "metadata": {},
   "outputs": [
    {
     "name": "stdout",
     "output_type": "stream",
     "text": [
      "Count of data in the target variable AxesSubplot(0.125,0.125;0.775x0.755)\n"
     ]
    },
    {
     "data": {
      "image/png": "[encoded data removed]",
      "text/plain": [
       "<Figure size 432x288 with 1 Axes>"
      ]
     },
     "metadata": {},
     "output_type": "display_data"
    }
   ],
   "source": [
    "print(\"Count of data in the target variable\",patients['class'].value_counts().head(10).plot.bar())\n"
   ]
  },
  {
   "cell_type": "markdown",
   "metadata": {},
   "source": [
    "### Testing for correlation between all features in our dataset "
   ]
  },
  {
   "cell_type": "code",
   "execution_count": 5,
   "metadata": {},
   "outputs": [
    {
     "data": {
      "image/png": "[encoded data removed]",
      "text/plain": [
       "<Figure size 720x576 with 2 Axes>"
      ]
     },
     "metadata": {},
     "output_type": "display_data"
    }
   ],
   "source": [
    "correlation= patients.corr()\n",
    "plt.figure(figsize=(10,8))\n",
    "plt.title('Correlation of Attributes with Class variable')\n",
    "a = sns.heatmap(correlation, square=True, annot=True, fmt='.2f', linecolor='white')\n",
    "a.set_xticklabels(a.get_xticklabels(), rotation=90)\n",
    "a.set_yticklabels(a.get_yticklabels(), rotation=30)           \n",
    "plt.show()\n"
   ]
  },
  {
   "cell_type": "markdown",
   "metadata": {},
   "source": [
    "Split the class label and features into separate data frames"
   ]
  },
  {
   "cell_type": "code",
   "execution_count": 6,
   "metadata": {},
   "outputs": [],
   "source": [
    "pt_features = patients.drop('class', axis=1)\n",
    "pt_class = patients['class']"
   ]
  },
  {
   "cell_type": "markdown",
   "metadata": {},
   "source": [
    "Split the full (normazlied) data set into train (70%) and test (30%) sets"
   ]
  },
  {
   "cell_type": "code",
   "execution_count": 7,
   "metadata": {},
   "outputs": [],
   "source": [
    "train_features, test_features, train_label, test_label = train_test_split(pt_features, pt_class, test_size=0.3, random_state=0)"
   ]
  },
  {
   "cell_type": "code",
   "execution_count": 8,
   "metadata": {},
   "outputs": [
    {
     "data": {
      "text/plain": [
       "(642, 11)"
      ]
     },
     "execution_count": 8,
     "metadata": {},
     "output_type": "execute_result"
    }
   ],
   "source": [
    "train_features.shape\n"
   ]
  },
  {
   "cell_type": "code",
   "execution_count": 9,
   "metadata": {},
   "outputs": [
    {
     "data": {
      "text/plain": [
       "(276, 11)"
      ]
     },
     "execution_count": 9,
     "metadata": {},
     "output_type": "execute_result"
    }
   ],
   "source": [
    "test_features.shape"
   ]
  },
  {
   "cell_type": "markdown",
   "metadata": {},
   "source": [
    "Run decision tree classifier and do k-fold cross validation with k=10 on the train data set with scoring as F1macro"
   ]
  },
  {
   "cell_type": "code",
   "execution_count": 10,
   "metadata": {},
   "outputs": [],
   "source": [
    "clf = tree.DecisionTreeClassifier(random_state=0, max_depth=20, criterion='entropy')\n",
    "treescores = cross_val_score(clf, train_features, train_label, cv=10, scoring='f1_macro')"
   ]
  },
  {
   "cell_type": "code",
   "execution_count": 11,
   "metadata": {},
   "outputs": [
    {
     "name": "stdout",
     "output_type": "stream",
     "text": [
      "[0.18865991 0.18831324 0.28517186 0.21758513 0.46281095 0.29468171\n",
      " 0.26463659 0.2692596  0.43214286 0.36130566]\n"
     ]
    }
   ],
   "source": [
    "print(treescores)"
   ]
  },
  {
   "cell_type": "markdown",
   "metadata": {},
   "source": [
    "Run Random Forest with 10, 100 and 1000 trees"
   ]
  },
  {
   "cell_type": "code",
   "execution_count": 12,
   "metadata": {},
   "outputs": [],
   "source": [
    "forest10 = RandomForestClassifier(n_estimators=10, max_depth=10, criterion='entropy', random_state=0)\n",
    "forest100 = RandomForestClassifier(n_estimators=100, max_depth=10, criterion='entropy',random_state=0)\n",
    "forest1000 = RandomForestClassifier(n_estimators=1000, max_depth=10, criterion='entropy', random_state=0)"
   ]
  },
  {
   "cell_type": "code",
   "execution_count": 13,
   "metadata": {},
   "outputs": [],
   "source": [
    "forestscores10 = cross_val_score(forest10, train_features, train_label, cv=10, scoring='f1_macro')\n",
    "forestscores100 = cross_val_score(forest100, train_features, train_label, cv=10, scoring='f1_macro')\n",
    "forestscores1000 = cross_val_score(forest1000, train_features, train_label, cv=10, scoring='f1_macro')"
   ]
  },
  {
   "cell_type": "code",
   "execution_count": 14,
   "metadata": {},
   "outputs": [
    {
     "name": "stdout",
     "output_type": "stream",
     "text": [
      "[0.25285104 0.30500611 0.36149918 0.29887446 0.35955379 0.25374474\n",
      " 0.43734219 0.35951923 0.44433796 0.33543199]\n"
     ]
    }
   ],
   "source": [
    "print(forestscores100)"
   ]
  },
  {
   "cell_type": "markdown",
   "metadata": {},
   "source": [
    "### Apply SVM"
   ]
  },
  {
   "cell_type": "code",
   "execution_count": 15,
   "metadata": {},
   "outputs": [],
   "source": [
    "svmlinear = SVC(kernel='linear', random_state=0)\n",
    "svmpoly = SVC(kernel='poly', gamma='auto',random_state=0)\n",
    "svmrbf = SVC(kernel='rbf', gamma='auto',random_state=0)"
   ]
  },
  {
   "cell_type": "code",
   "execution_count": 16,
   "metadata": {},
   "outputs": [],
   "source": [
    "svmscoreslinear = cross_val_score(svmlinear, train_features, train_label, cv=10, scoring='f1_macro')\n",
    "svmscorespoly = cross_val_score(svmpoly, train_features, train_label, cv=10, scoring='f1_macro')\n",
    "svmscoresrbf = cross_val_score(svmrbf, train_features, train_label, cv=10, scoring='f1_macro')"
   ]
  },
  {
   "cell_type": "code",
   "execution_count": null,
   "metadata": {},
   "outputs": [],
   "source": [
    "   "
   ]
  },
  {
   "cell_type": "code",
   "execution_count": 17,
   "metadata": {},
   "outputs": [
    {
     "name": "stdout",
     "output_type": "stream",
     "text": [
      "[0.19742547 0.21693767 0.24973262 0.26470588 0.25184679 0.23769841\n",
      " 0.26462766 0.23666211 0.24016282 0.2248974 ]\n",
      "[0.18542569 0.2190618  0.23991755 0.23040936 0.25868782 0.1887218\n",
      " 0.26708075 0.23215573 0.25405405 0.23243243]\n",
      "[0.18036984 0.21284271 0.25294118 0.26506355 0.26211268 0.21904762\n",
      " 0.26424242 0.24596273 0.23647887 0.21521127]\n"
     ]
    }
   ],
   "source": [
    "print(svmscoreslinear)\n",
    "print(svmscorespoly)\n",
    "print(svmscoresrbf)"
   ]
  },
  {
   "cell_type": "markdown",
   "metadata": {},
   "source": [
    "Compute mean"
   ]
  },
  {
   "cell_type": "code",
   "execution_count": 18,
   "metadata": {},
   "outputs": [
    {
     "name": "stdout",
     "output_type": "stream",
     "text": [
      "F1 score of decision tree: 0.30 (+/- 0.18)\n"
     ]
    }
   ],
   "source": [
    "print(\"F1 score of decision tree: %0.2f (+/- %0.2f)\" % (treescores.mean(), treescores.std() * 1.96))"
   ]
  },
  {
   "cell_type": "code",
   "execution_count": 19,
   "metadata": {},
   "outputs": [
    {
     "name": "stdout",
     "output_type": "stream",
     "text": [
      "F1 score of forest with 10 trees: 0.34 (+/- 0.16)\n"
     ]
    }
   ],
   "source": [
    "print(\"F1 score of forest with 10 trees: %0.2f (+/- %0.2f)\" % (forestscores10.mean(), forestscores10.std() * 1.96))\n"
   ]
  },
  {
   "cell_type": "code",
   "execution_count": 20,
   "metadata": {},
   "outputs": [
    {
     "name": "stdout",
     "output_type": "stream",
     "text": [
      "F1 score of forest with 100 trees: 0.34 (+/- 0.12)\n"
     ]
    }
   ],
   "source": [
    "print(\"F1 score of forest with 100 trees: %0.2f (+/- %0.2f)\" % (forestscores100.mean(), forestscores100.std() * 1.96))\n"
   ]
  },
  {
   "cell_type": "code",
   "execution_count": 21,
   "metadata": {},
   "outputs": [
    {
     "name": "stdout",
     "output_type": "stream",
     "text": [
      "F1 score of forest with 1000 trees: 0.32 (+/- 0.08)\n"
     ]
    }
   ],
   "source": [
    "print(\"F1 score of forest with 1000 trees: %0.2f (+/- %0.2f)\" % (forestscores1000.mean(), forestscores1000.std() * 1.96))\n"
   ]
  },
  {
   "cell_type": "code",
   "execution_count": 22,
   "metadata": {},
   "outputs": [
    {
     "name": "stdout",
     "output_type": "stream",
     "text": [
      "F1 score of Linear SVM: 0.24 (+/- 0.04)\n"
     ]
    }
   ],
   "source": [
    "print(\"F1 score of Linear SVM: %0.2f (+/- %0.2f)\" % (svmscoreslinear.mean(), svmscoreslinear.std() * 1.96))\n"
   ]
  },
  {
   "cell_type": "code",
   "execution_count": 23,
   "metadata": {},
   "outputs": [
    {
     "name": "stdout",
     "output_type": "stream",
     "text": [
      "F1 score of Poly SVM: 0.23 (+/- 0.05)\n"
     ]
    }
   ],
   "source": [
    "print(\"F1 score of Poly SVM: %0.2f (+/- %0.2f)\" % (svmscorespoly.mean(), svmscorespoly.std() * 1.96))\n"
   ]
  },
  {
   "cell_type": "code",
   "execution_count": 24,
   "metadata": {},
   "outputs": [
    {
     "name": "stdout",
     "output_type": "stream",
     "text": [
      "F1 score of RBF SVM: 0.24 (+/- 0.05)\n"
     ]
    }
   ],
   "source": [
    "print(\"F1 score of RBF SVM: %0.2f (+/- %0.2f)\" % (svmscoresrbf.mean(), svmscoresrbf.std() * 1.96))"
   ]
  },
  {
   "cell_type": "markdown",
   "metadata": {},
   "source": [
    "Train best performing model on the whole train data set"
   ]
  },
  {
   "cell_type": "code",
   "execution_count": 25,
   "metadata": {},
   "outputs": [],
   "source": [
    "best_forest = forest100.fit(train_features, train_label)"
   ]
  },
  {
   "cell_type": "code",
   "execution_count": 26,
   "metadata": {},
   "outputs": [],
   "source": [
    "best_svm = svmrbf.fit(train_features, train_label)"
   ]
  },
  {
   "cell_type": "markdown",
   "metadata": {},
   "source": [
    "Run the model on test data"
   ]
  },
  {
   "cell_type": "code",
   "execution_count": 27,
   "metadata": {},
   "outputs": [],
   "source": [
    "ypred_best_forest = best_forest.predict(test_features)"
   ]
  },
  {
   "cell_type": "code",
   "execution_count": 28,
   "metadata": {},
   "outputs": [],
   "source": [
    "ypred_best_svm = best_svm.predict(test_features)"
   ]
  },
  {
   "cell_type": "markdown",
   "metadata": {},
   "source": [
    "Prepare report for best model of each type - Forest"
   ]
  },
  {
   "cell_type": "code",
   "execution_count": 29,
   "metadata": {
    "scrolled": true
   },
   "outputs": [
    {
     "name": "stdout",
     "output_type": "stream",
     "text": [
      "              precision    recall  f1-score   support\n",
      "\n",
      "           0       0.69      0.83      0.75       117\n",
      "           1       0.46      0.51      0.48        83\n",
      "           2       0.09      0.03      0.04        40\n",
      "           3       0.36      0.36      0.36        28\n",
      "           4       0.50      0.25      0.33         8\n",
      "\n",
      "    accuracy                           0.55       276\n",
      "   macro avg       0.42      0.39      0.39       276\n",
      "weighted avg       0.49      0.55      0.51       276\n",
      "\n"
     ]
    }
   ],
   "source": [
    "print(metrics.classification_report(test_label, ypred_best_forest))"
   ]
  },
  {
   "cell_type": "code",
   "execution_count": 30,
   "metadata": {},
   "outputs": [
    {
     "name": "stdout",
     "output_type": "stream",
     "text": [
      "0.55\n"
     ]
    }
   ],
   "source": [
    "print(round(metrics.accuracy_score(test_label,ypred_best_forest),ndigits=2))"
   ]
  },
  {
   "cell_type": "code",
   "execution_count": 31,
   "metadata": {},
   "outputs": [
    {
     "name": "stdout",
     "output_type": "stream",
     "text": [
      "0.49\n"
     ]
    }
   ],
   "source": [
    "print(round(metrics.precision_score(test_label,ypred_best_forest,average='weighted'),ndigits=2))"
   ]
  },
  {
   "cell_type": "code",
   "execution_count": 32,
   "metadata": {},
   "outputs": [
    {
     "name": "stdout",
     "output_type": "stream",
     "text": [
      "0.55\n"
     ]
    }
   ],
   "source": [
    "print(round(metrics.recall_score(test_label,ypred_best_forest,average='weighted'),ndigits=2))"
   ]
  },
  {
   "cell_type": "code",
   "execution_count": 33,
   "metadata": {},
   "outputs": [
    {
     "name": "stdout",
     "output_type": "stream",
     "text": [
      "0.51\n"
     ]
    }
   ],
   "source": [
    "print(round(metrics.f1_score(test_label,ypred_best_forest,average='weighted'),ndigits=2))"
   ]
  },
  {
   "cell_type": "markdown",
   "metadata": {},
   "source": [
    "Binarize labels which is needed for multi class calculation of auc"
   ]
  },
  {
   "cell_type": "code",
   "execution_count": 34,
   "metadata": {},
   "outputs": [],
   "source": [
    "labels = [0, 1, 2, 3, 4]\n",
    "new_test_label= preprocessing.label_binarize(test_label, classes=labels)\n",
    "new_ypred_best_forest= preprocessing.label_binarize(ypred_best_forest, classes=labels)\n",
    "new_ypred_best_svm= preprocessing.label_binarize(ypred_best_svm,classes= labels)"
   ]
  },
  {
   "cell_type": "code",
   "execution_count": 35,
   "metadata": {},
   "outputs": [
    {
     "name": "stdout",
     "output_type": "stream",
     "text": [
      "0.67\n"
     ]
    }
   ],
   "source": [
    "\n",
    "print(round(metrics.roc_auc_score(new_test_label,new_ypred_best_forest,average='weighted',multi_class='ovo'),ndigits=2))"
   ]
  },
  {
   "cell_type": "code",
   "execution_count": 36,
   "metadata": {
    "scrolled": true
   },
   "outputs": [
    {
     "name": "stdout",
     "output_type": "stream",
     "text": [
      "              precision    recall  f1-score   support\n",
      "\n",
      "           0       0.60      0.85      0.71       117\n",
      "           1       0.47      0.63      0.54        83\n",
      "           2       0.00      0.00      0.00        40\n",
      "           3       0.00      0.00      0.00        28\n",
      "           4       0.00      0.00      0.00         8\n",
      "\n",
      "    accuracy                           0.55       276\n",
      "   macro avg       0.22      0.30      0.25       276\n",
      "weighted avg       0.40      0.55      0.46       276\n",
      "\n"
     ]
    },
    {
     "name": "stderr",
     "output_type": "stream",
     "text": [
      "C:\\ProgramData\\Anaconda3\\lib\\site-packages\\sklearn\\metrics\\_classification.py:1248: UndefinedMetricWarning: Precision and F-score are ill-defined and being set to 0.0 in labels with no predicted samples. Use `zero_division` parameter to control this behavior.\n",
      "  _warn_prf(average, modifier, msg_start, len(result))\n",
      "C:\\ProgramData\\Anaconda3\\lib\\site-packages\\sklearn\\metrics\\_classification.py:1248: UndefinedMetricWarning: Precision and F-score are ill-defined and being set to 0.0 in labels with no predicted samples. Use `zero_division` parameter to control this behavior.\n",
      "  _warn_prf(average, modifier, msg_start, len(result))\n",
      "C:\\ProgramData\\Anaconda3\\lib\\site-packages\\sklearn\\metrics\\_classification.py:1248: UndefinedMetricWarning: Precision and F-score are ill-defined and being set to 0.0 in labels with no predicted samples. Use `zero_division` parameter to control this behavior.\n",
      "  _warn_prf(average, modifier, msg_start, len(result))\n"
     ]
    }
   ],
   "source": [
    "print(metrics.classification_report(test_label, ypred_best_svm))"
   ]
  },
  {
   "cell_type": "code",
   "execution_count": 37,
   "metadata": {},
   "outputs": [
    {
     "name": "stdout",
     "output_type": "stream",
     "text": [
      "0.55\n"
     ]
    }
   ],
   "source": [
    "print(round(metrics.accuracy_score(test_label,ypred_best_svm),ndigits=2))"
   ]
  },
  {
   "cell_type": "code",
   "execution_count": 38,
   "metadata": {},
   "outputs": [
    {
     "name": "stdout",
     "output_type": "stream",
     "text": [
      "0.4\n"
     ]
    },
    {
     "name": "stderr",
     "output_type": "stream",
     "text": [
      "C:\\ProgramData\\Anaconda3\\lib\\site-packages\\sklearn\\metrics\\_classification.py:1248: UndefinedMetricWarning: Precision is ill-defined and being set to 0.0 in labels with no predicted samples. Use `zero_division` parameter to control this behavior.\n",
      "  _warn_prf(average, modifier, msg_start, len(result))\n"
     ]
    }
   ],
   "source": [
    "print(round(metrics.precision_score(test_label,ypred_best_svm,average='weighted',),ndigits=2))"
   ]
  },
  {
   "cell_type": "code",
   "execution_count": 39,
   "metadata": {},
   "outputs": [
    {
     "name": "stdout",
     "output_type": "stream",
     "text": [
      "0.55\n"
     ]
    }
   ],
   "source": [
    "print(round(metrics.recall_score(test_label,ypred_best_svm,average='weighted'),ndigits=2))"
   ]
  },
  {
   "cell_type": "code",
   "execution_count": 40,
   "metadata": {},
   "outputs": [
    {
     "name": "stdout",
     "output_type": "stream",
     "text": [
      "0.46\n"
     ]
    }
   ],
   "source": [
    "print(round(metrics.f1_score(test_label,ypred_best_svm,average='weighted'),ndigits=2))"
   ]
  },
  {
   "cell_type": "code",
   "execution_count": 41,
   "metadata": {},
   "outputs": [
    {
     "name": "stdout",
     "output_type": "stream",
     "text": [
      "0.64\n"
     ]
    }
   ],
   "source": [
    "print(round(metrics.roc_auc_score(new_test_label,new_ypred_best_svm,average='weighted',multi_class='ovo'),ndigits=2))"
   ]
  },
  {
   "cell_type": "markdown",
   "metadata": {},
   "source": [
    "##  Heavens part (KNN, 5 label)"
   ]
  },
  {
   "cell_type": "code",
   "execution_count": 42,
   "metadata": {},
   "outputs": [
    {
     "data": {
      "text/plain": [
       "age         0\n",
       "sex         0\n",
       "cp          0\n",
       "trestbps    0\n",
       "chol        0\n",
       "fbs         0\n",
       "restecg     0\n",
       "thalach     0\n",
       "exang       0\n",
       "oldpeak     0\n",
       "slope       0\n",
       "class       0\n",
       "dtype: int64"
      ]
     },
     "execution_count": 42,
     "metadata": {},
     "output_type": "execute_result"
    }
   ],
   "source": [
    "patients.isnull().sum()\n",
    "patients.isna().sum()"
   ]
  },
  {
   "cell_type": "code",
   "execution_count": null,
   "metadata": {},
   "outputs": [],
   "source": []
  },
  {
   "cell_type": "code",
   "execution_count": 43,
   "metadata": {},
   "outputs": [
    {
     "data": {
      "text/plain": [
       "age         float64\n",
       "sex         float64\n",
       "cp          float64\n",
       "trestbps    float64\n",
       "chol        float64\n",
       "fbs         float64\n",
       "restecg     float64\n",
       "thalach     float64\n",
       "exang       float64\n",
       "oldpeak     float64\n",
       "slope       float64\n",
       "class         int64\n",
       "dtype: object"
      ]
     },
     "execution_count": 43,
     "metadata": {},
     "output_type": "execute_result"
    }
   ],
   "source": [
    "patients.dtypes ## to assure all values have correct datatype"
   ]
  },
  {
   "cell_type": "markdown",
   "metadata": {},
   "source": [
    "#### Visualizing the colums of the training dataset"
   ]
  },
  {
   "cell_type": "code",
   "execution_count": 44,
   "metadata": {},
   "outputs": [],
   "source": [
    "cols = train_features.columns"
   ]
  },
  {
   "cell_type": "markdown",
   "metadata": {},
   "source": [
    "#### Scaling the data before importing to KNN (Very necessary)"
   ]
  },
  {
   "cell_type": "code",
   "execution_count": 45,
   "metadata": {},
   "outputs": [],
   "source": [
    "from sklearn.preprocessing import StandardScaler\n",
    "\n",
    "scaler = StandardScaler()\n",
    "\n",
    "train_features = scaler.fit_transform(train_features)\n",
    "\n",
    "test_features = scaler.transform(test_features)"
   ]
  },
  {
   "cell_type": "markdown",
   "metadata": {},
   "source": [
    "#### Change the scaled data in to dataframe"
   ]
  },
  {
   "cell_type": "code",
   "execution_count": 46,
   "metadata": {},
   "outputs": [],
   "source": [
    "train_features = pd.DataFrame(train_features, columns=[cols])\n",
    "test_features = pd.DataFrame(test_features, columns=[cols])"
   ]
  },
  {
   "cell_type": "markdown",
   "metadata": {},
   "source": [
    "#### Visualizind the scalled data"
   ]
  },
  {
   "cell_type": "code",
   "execution_count": 47,
   "metadata": {},
   "outputs": [
    {
     "data": {
      "text/html": [
       "<div>\n",
       "<style scoped>\n",
       "    .dataframe tbody tr th:only-of-type {\n",
       "        vertical-align: middle;\n",
       "    }\n",
       "\n",
       "    .dataframe tbody tr th {\n",
       "        vertical-align: top;\n",
       "    }\n",
       "\n",
       "    .dataframe thead tr th {\n",
       "        text-align: left;\n",
       "    }\n",
       "</style>\n",
       "<table border=\"1\" class=\"dataframe\">\n",
       "  <thead>\n",
       "    <tr>\n",
       "      <th></th>\n",
       "      <th>age</th>\n",
       "      <th>sex</th>\n",
       "      <th>cp</th>\n",
       "      <th>trestbps</th>\n",
       "      <th>chol</th>\n",
       "      <th>fbs</th>\n",
       "      <th>restecg</th>\n",
       "      <th>thalach</th>\n",
       "      <th>exang</th>\n",
       "      <th>oldpeak</th>\n",
       "      <th>slope</th>\n",
       "    </tr>\n",
       "  </thead>\n",
       "  <tbody>\n",
       "    <tr>\n",
       "      <th>0</th>\n",
       "      <td>0.739356</td>\n",
       "      <td>0.528095</td>\n",
       "      <td>0.817827</td>\n",
       "      <td>-0.333494</td>\n",
       "      <td>0.532984</td>\n",
       "      <td>-0.371884</td>\n",
       "      <td>1.742382</td>\n",
       "      <td>0.106674</td>\n",
       "      <td>1.352107</td>\n",
       "      <td>1.840300</td>\n",
       "      <td>0.302320</td>\n",
       "    </tr>\n",
       "    <tr>\n",
       "      <th>1</th>\n",
       "      <td>1.268999</td>\n",
       "      <td>-1.893598</td>\n",
       "      <td>-0.280593</td>\n",
       "      <td>0.480030</td>\n",
       "      <td>2.048218</td>\n",
       "      <td>2.689009</td>\n",
       "      <td>1.742382</td>\n",
       "      <td>0.721407</td>\n",
       "      <td>-0.739586</td>\n",
       "      <td>-0.041475</td>\n",
       "      <td>-1.638577</td>\n",
       "    </tr>\n",
       "    <tr>\n",
       "      <th>2</th>\n",
       "      <td>-0.955503</td>\n",
       "      <td>0.528095</td>\n",
       "      <td>0.817827</td>\n",
       "      <td>-0.062319</td>\n",
       "      <td>0.066026</td>\n",
       "      <td>-0.371884</td>\n",
       "      <td>0.500862</td>\n",
       "      <td>-0.431216</td>\n",
       "      <td>-0.739586</td>\n",
       "      <td>-0.794186</td>\n",
       "      <td>0.302320</td>\n",
       "    </tr>\n",
       "    <tr>\n",
       "      <th>3</th>\n",
       "      <td>-0.955503</td>\n",
       "      <td>0.528095</td>\n",
       "      <td>-0.280593</td>\n",
       "      <td>-0.604669</td>\n",
       "      <td>0.228032</td>\n",
       "      <td>-0.371884</td>\n",
       "      <td>-0.740657</td>\n",
       "      <td>1.182456</td>\n",
       "      <td>-0.739586</td>\n",
       "      <td>-0.794186</td>\n",
       "      <td>-1.638577</td>\n",
       "    </tr>\n",
       "    <tr>\n",
       "      <th>4</th>\n",
       "      <td>0.103784</td>\n",
       "      <td>0.528095</td>\n",
       "      <td>-0.280593</td>\n",
       "      <td>-0.604669</td>\n",
       "      <td>0.332859</td>\n",
       "      <td>-0.371884</td>\n",
       "      <td>-0.740657</td>\n",
       "      <td>0.452461</td>\n",
       "      <td>1.352107</td>\n",
       "      <td>0.617146</td>\n",
       "      <td>0.302320</td>\n",
       "    </tr>\n",
       "  </tbody>\n",
       "</table>\n",
       "</div>"
      ],
      "text/plain": [
       "        age       sex        cp  trestbps      chol       fbs   restecg  \\\n",
       "0  0.739356  0.528095  0.817827 -0.333494  0.532984 -0.371884  1.742382   \n",
       "1  1.268999 -1.893598 -0.280593  0.480030  2.048218  2.689009  1.742382   \n",
       "2 -0.955503  0.528095  0.817827 -0.062319  0.066026 -0.371884  0.500862   \n",
       "3 -0.955503  0.528095 -0.280593 -0.604669  0.228032 -0.371884 -0.740657   \n",
       "4  0.103784  0.528095 -0.280593 -0.604669  0.332859 -0.371884 -0.740657   \n",
       "\n",
       "    thalach     exang   oldpeak     slope  \n",
       "0  0.106674  1.352107  1.840300  0.302320  \n",
       "1  0.721407 -0.739586 -0.041475 -1.638577  \n",
       "2 -0.431216 -0.739586 -0.794186  0.302320  \n",
       "3  1.182456 -0.739586 -0.794186 -1.638577  \n",
       "4  0.452461  1.352107  0.617146  0.302320  "
      ]
     },
     "execution_count": 47,
     "metadata": {},
     "output_type": "execute_result"
    }
   ],
   "source": [
    "train_features.head()"
   ]
  },
  {
   "cell_type": "code",
   "execution_count": 48,
   "metadata": {},
   "outputs": [
    {
     "data": {
      "text/html": [
       "<div>\n",
       "<style scoped>\n",
       "    .dataframe tbody tr th:only-of-type {\n",
       "        vertical-align: middle;\n",
       "    }\n",
       "\n",
       "    .dataframe tbody tr th {\n",
       "        vertical-align: top;\n",
       "    }\n",
       "\n",
       "    .dataframe thead tr th {\n",
       "        text-align: left;\n",
       "    }\n",
       "</style>\n",
       "<table border=\"1\" class=\"dataframe\">\n",
       "  <thead>\n",
       "    <tr>\n",
       "      <th></th>\n",
       "      <th>age</th>\n",
       "      <th>sex</th>\n",
       "      <th>cp</th>\n",
       "      <th>trestbps</th>\n",
       "      <th>chol</th>\n",
       "      <th>fbs</th>\n",
       "      <th>restecg</th>\n",
       "      <th>thalach</th>\n",
       "      <th>exang</th>\n",
       "      <th>oldpeak</th>\n",
       "      <th>slope</th>\n",
       "    </tr>\n",
       "  </thead>\n",
       "  <tbody>\n",
       "    <tr>\n",
       "      <th>0</th>\n",
       "      <td>0.209712</td>\n",
       "      <td>0.528095</td>\n",
       "      <td>0.817827</td>\n",
       "      <td>0.588499</td>\n",
       "      <td>0.247091</td>\n",
       "      <td>-0.371884</td>\n",
       "      <td>0.500862</td>\n",
       "      <td>0.414041</td>\n",
       "      <td>1.352107</td>\n",
       "      <td>1.558034</td>\n",
       "      <td>-1.638577</td>\n",
       "    </tr>\n",
       "    <tr>\n",
       "      <th>1</th>\n",
       "      <td>-0.531788</td>\n",
       "      <td>0.528095</td>\n",
       "      <td>0.817827</td>\n",
       "      <td>1.564728</td>\n",
       "      <td>0.628282</td>\n",
       "      <td>-0.371884</td>\n",
       "      <td>-0.740657</td>\n",
       "      <td>-1.353315</td>\n",
       "      <td>1.352107</td>\n",
       "      <td>0.146702</td>\n",
       "      <td>0.302320</td>\n",
       "    </tr>\n",
       "    <tr>\n",
       "      <th>2</th>\n",
       "      <td>-0.849574</td>\n",
       "      <td>0.528095</td>\n",
       "      <td>-2.477433</td>\n",
       "      <td>-1.147018</td>\n",
       "      <td>0.590163</td>\n",
       "      <td>-0.371884</td>\n",
       "      <td>-0.740657</td>\n",
       "      <td>-0.239112</td>\n",
       "      <td>-0.739586</td>\n",
       "      <td>0.334880</td>\n",
       "      <td>0.302320</td>\n",
       "    </tr>\n",
       "    <tr>\n",
       "      <th>3</th>\n",
       "      <td>1.692714</td>\n",
       "      <td>0.528095</td>\n",
       "      <td>0.817827</td>\n",
       "      <td>0.051574</td>\n",
       "      <td>0.828407</td>\n",
       "      <td>2.689009</td>\n",
       "      <td>0.500862</td>\n",
       "      <td>-0.027798</td>\n",
       "      <td>-0.739586</td>\n",
       "      <td>0.052614</td>\n",
       "      <td>0.302320</td>\n",
       "    </tr>\n",
       "    <tr>\n",
       "      <th>4</th>\n",
       "      <td>-0.214002</td>\n",
       "      <td>-1.893598</td>\n",
       "      <td>-0.280593</td>\n",
       "      <td>-0.604669</td>\n",
       "      <td>0.885586</td>\n",
       "      <td>-0.371884</td>\n",
       "      <td>1.742382</td>\n",
       "      <td>0.721407</td>\n",
       "      <td>-0.739586</td>\n",
       "      <td>-0.229653</td>\n",
       "      <td>-1.638577</td>\n",
       "    </tr>\n",
       "  </tbody>\n",
       "</table>\n",
       "</div>"
      ],
      "text/plain": [
       "        age       sex        cp  trestbps      chol       fbs   restecg  \\\n",
       "0  0.209712  0.528095  0.817827  0.588499  0.247091 -0.371884  0.500862   \n",
       "1 -0.531788  0.528095  0.817827  1.564728  0.628282 -0.371884 -0.740657   \n",
       "2 -0.849574  0.528095 -2.477433 -1.147018  0.590163 -0.371884 -0.740657   \n",
       "3  1.692714  0.528095  0.817827  0.051574  0.828407  2.689009  0.500862   \n",
       "4 -0.214002 -1.893598 -0.280593 -0.604669  0.885586 -0.371884  1.742382   \n",
       "\n",
       "    thalach     exang   oldpeak     slope  \n",
       "0  0.414041  1.352107  1.558034 -1.638577  \n",
       "1 -1.353315  1.352107  0.146702  0.302320  \n",
       "2 -0.239112 -0.739586  0.334880  0.302320  \n",
       "3 -0.027798 -0.739586  0.052614  0.302320  \n",
       "4  0.721407 -0.739586 -0.229653 -1.638577  "
      ]
     },
     "execution_count": 48,
     "metadata": {},
     "output_type": "execute_result"
    }
   ],
   "source": [
    "test_features.head()"
   ]
  },
  {
   "cell_type": "markdown",
   "metadata": {},
   "source": [
    "### Creating KNN Model K=3"
   ]
  },
  {
   "cell_type": "code",
   "execution_count": 49,
   "metadata": {},
   "outputs": [
    {
     "name": "stdout",
     "output_type": "stream",
     "text": [
      "confussion matrix\n",
      "[[92 22  2  1  0]\n",
      " [29 43  3  8  0]\n",
      " [13 22  3  1  1]\n",
      " [11  6  8  2  1]\n",
      " [ 1  3  1  1  2]]\n",
      "-------------------------------------------\n",
      "Accuracy of K-NeighborsClassifier: 51.449275362318836 \n",
      "\n",
      "-------------------------------------------\n",
      "              precision    recall  f1-score   support\n",
      "\n",
      "           0       0.63      0.79      0.70       117\n",
      "           1       0.45      0.52      0.48        83\n",
      "           2       0.18      0.07      0.11        40\n",
      "           3       0.15      0.07      0.10        28\n",
      "           4       0.50      0.25      0.33         8\n",
      "\n",
      "    accuracy                           0.51       276\n",
      "   macro avg       0.38      0.34      0.34       276\n",
      "weighted avg       0.46      0.51      0.48       276\n",
      "\n"
     ]
    }
   ],
   "source": [
    "knn_3 = KNeighborsClassifier(n_neighbors=3)\n",
    "knn_3.fit(train_features, train_label)\n",
    "knn_3_predicted = knn_3.predict(test_features)\n",
    "knn_3_conf_matrix = confusion_matrix(test_label, knn_3_predicted)\n",
    "knn_3_acc_score = accuracy_score(test_label, knn_3_predicted)\n",
    "print(\"confussion matrix\")\n",
    "print(knn_3_conf_matrix)\n",
    "print(\"-------------------------------------------\")\n",
    "print(\"Accuracy of K-NeighborsClassifier:\",knn_3_acc_score*100,'\\n')\n",
    "print(\"-------------------------------------------\")\n",
    "print(classification_report(test_label,knn_3_predicted))"
   ]
  },
  {
   "cell_type": "markdown",
   "metadata": {},
   "source": [
    "### Creating KNN Model K=5"
   ]
  },
  {
   "cell_type": "code",
   "execution_count": 50,
   "metadata": {},
   "outputs": [
    {
     "name": "stdout",
     "output_type": "stream",
     "text": [
      "confussion matrix\n",
      "[[93 18  4  2  0]\n",
      " [24 41 11  7  0]\n",
      " [ 9 22  4  3  2]\n",
      " [ 7 11 10  0  0]\n",
      " [ 2  1  2  2  1]]\n",
      "-------------------------------------------\n",
      "Accuracy of K-NeighborsClassifier: 50.36231884057971 \n",
      "\n",
      "-------------------------------------------\n",
      "              precision    recall  f1-score   support\n",
      "\n",
      "           0       0.69      0.79      0.74       117\n",
      "           1       0.44      0.49      0.47        83\n",
      "           2       0.13      0.10      0.11        40\n",
      "           3       0.00      0.00      0.00        28\n",
      "           4       0.33      0.12      0.18         8\n",
      "\n",
      "    accuracy                           0.50       276\n",
      "   macro avg       0.32      0.30      0.30       276\n",
      "weighted avg       0.45      0.50      0.47       276\n",
      "\n"
     ]
    }
   ],
   "source": [
    "knn_5 = KNeighborsClassifier(n_neighbors=5)\n",
    "knn_5.fit(train_features, train_label)\n",
    "knn_5_predicted = knn_5.predict(test_features)\n",
    "knn_5_conf_matrix = confusion_matrix(test_label, knn_5_predicted)\n",
    "knn_5_acc_score = accuracy_score(test_label, knn_5_predicted)\n",
    "print(\"confussion matrix\")\n",
    "print(knn_5_conf_matrix)\n",
    "print(\"-------------------------------------------\")\n",
    "print(\"Accuracy of K-NeighborsClassifier:\",knn_5_acc_score*100,'\\n')\n",
    "print(\"-------------------------------------------\")\n",
    "print(classification_report(test_label,knn_5_predicted))"
   ]
  },
  {
   "cell_type": "markdown",
   "metadata": {},
   "source": [
    "### Creating KNN Model K=10"
   ]
  },
  {
   "cell_type": "code",
   "execution_count": 51,
   "metadata": {},
   "outputs": [
    {
     "name": "stdout",
     "output_type": "stream",
     "text": [
      "confussion matrix\n",
      "[[95 19  2  1  0]\n",
      " [23 45  8  7  0]\n",
      " [ 9 23  4  4  0]\n",
      " [ 6 11  9  1  1]\n",
      " [ 2  2  1  3  0]]\n",
      "-------------------------------------------\n",
      "Accuracy of K-NeighborsClassifier: 52.53623188405797 \n",
      "\n",
      "-------------------------------------------\n",
      "              precision    recall  f1-score   support\n",
      "\n",
      "           0       0.70      0.81      0.75       117\n",
      "           1       0.45      0.54      0.49        83\n",
      "           2       0.17      0.10      0.12        40\n",
      "           3       0.06      0.04      0.05        28\n",
      "           4       0.00      0.00      0.00         8\n",
      "\n",
      "    accuracy                           0.53       276\n",
      "   macro avg       0.28      0.30      0.28       276\n",
      "weighted avg       0.46      0.53      0.49       276\n",
      "\n"
     ]
    }
   ],
   "source": [
    "knn_10 = KNeighborsClassifier(n_neighbors=10)\n",
    "knn_10.fit(train_features, train_label)\n",
    "knn_10_predicted = knn_10.predict(test_features)\n",
    "knn_10_conf_matrix = confusion_matrix(test_label, knn_10_predicted)\n",
    "knn_10_acc_score = accuracy_score(test_label, knn_10_predicted)\n",
    "print(\"confussion matrix\")\n",
    "print(knn_10_conf_matrix)\n",
    "print(\"-------------------------------------------\")\n",
    "print(\"Accuracy of K-NeighborsClassifier:\",knn_10_acc_score*100,'\\n')\n",
    "print(\"-------------------------------------------\")\n",
    "print(classification_report(test_label,knn_10_predicted))"
   ]
  },
  {
   "cell_type": "code",
   "execution_count": 52,
   "metadata": {},
   "outputs": [],
   "source": [
    "best_knn = knn_10.fit(train_features, train_label)\n",
    "ypred_best_knn = best_knn.predict(test_features)"
   ]
  },
  {
   "cell_type": "code",
   "execution_count": 53,
   "metadata": {},
   "outputs": [
    {
     "name": "stdout",
     "output_type": "stream",
     "text": [
      "              precision    recall  f1-score   support\n",
      "\n",
      "           0       0.70      0.81      0.75       117\n",
      "           1       0.45      0.54      0.49        83\n",
      "           2       0.17      0.10      0.12        40\n",
      "           3       0.06      0.04      0.05        28\n",
      "           4       0.00      0.00      0.00         8\n",
      "\n",
      "    accuracy                           0.53       276\n",
      "   macro avg       0.28      0.30      0.28       276\n",
      "weighted avg       0.46      0.53      0.49       276\n",
      "\n"
     ]
    }
   ],
   "source": [
    "print(metrics.classification_report(test_label, ypred_best_knn))"
   ]
  },
  {
   "cell_type": "code",
   "execution_count": 54,
   "metadata": {},
   "outputs": [
    {
     "name": "stdout",
     "output_type": "stream",
     "text": [
      "0.66\n"
     ]
    }
   ],
   "source": [
    "labels = [0, 1, 2, 3, 4]\n",
    "new_test_label= preprocessing.label_binarize(test_label, classes=labels)\n",
    "new_ypred_best_knn= preprocessing.label_binarize(ypred_best_knn, classes=labels)\n",
    "new_ypred_best_svm= preprocessing.label_binarize(ypred_best_svm,classes= labels)\n",
    "\n",
    "\n",
    "print(round(metrics.roc_auc_score(new_test_label,new_ypred_best_knn,average='weighted',multi_class='ovo'),ndigits=2))"
   ]
  },
  {
   "cell_type": "markdown",
   "metadata": {},
   "source": [
    "#### Score to the best KNN model K=10"
   ]
  },
  {
   "cell_type": "code",
   "execution_count": 55,
   "metadata": {
    "scrolled": true
   },
   "outputs": [
    {
     "name": "stdout",
     "output_type": "stream",
     "text": [
      "Accuracy of score the model is: 52.54\n",
      "Precision of score the model is: 46.41\n",
      "Recall of score the model is: 52.54\n",
      "F1_score of the model is: 49.02\n"
     ]
    }
   ],
   "source": [
    "print(\"Accuracy of score the model is:\",(round(metrics.accuracy_score(test_label,ypred_best_knn)*100,ndigits=2)))\n",
    "print(\"Precision of score the model is:\",(round(metrics.precision_score(test_label,ypred_best_knn,average='weighted')*100,ndigits=2)))\n",
    "print(\"Recall of score the model is:\",(round(metrics.recall_score(test_label,ypred_best_knn,average='weighted')*100,ndigits=2)))\n",
    "print(\"F1_score of the model is:\",(round( metrics.f1_score(test_label,ypred_best_knn,average='weighted')*100,ndigits=2)))"
   ]
  },
  {
   "cell_type": "markdown",
   "metadata": {},
   "source": [
    "###  Cross validation at 3"
   ]
  },
  {
   "cell_type": "code",
   "execution_count": 56,
   "metadata": {},
   "outputs": [
    {
     "data": {
      "text/plain": [
       "array([25.35014006, 39.50118699, 35.0139569 ])"
      ]
     },
     "execution_count": 56,
     "metadata": {},
     "output_type": "execute_result"
    }
   ],
   "source": [
    "best_knn_cv_3 = cross_val_score(best_knn, test_features, test_label, cv=3, scoring='f1_macro')\n",
    "best_knn_cv_3*100\n",
    "\n"
   ]
  },
  {
   "cell_type": "markdown",
   "metadata": {},
   "source": [
    "###  Cross validation at 5"
   ]
  },
  {
   "cell_type": "code",
   "execution_count": 57,
   "metadata": {},
   "outputs": [
    {
     "data": {
      "text/plain": [
       "array([24.37148218, 31.53846154, 41.3280482 , 28.86002886, 39.01960784])"
      ]
     },
     "execution_count": 57,
     "metadata": {},
     "output_type": "execute_result"
    }
   ],
   "source": [
    "best_knn_cv_5 = cross_val_score(best_knn, test_features, test_label, cv=5, scoring='f1_macro')\n",
    "best_knn_cv_5*100"
   ]
  },
  {
   "cell_type": "markdown",
   "metadata": {},
   "source": [
    "###  Cross validation at 3"
   ]
  },
  {
   "cell_type": "code",
   "execution_count": 58,
   "metadata": {},
   "outputs": [
    {
     "name": "stderr",
     "output_type": "stream",
     "text": [
      "C:\\ProgramData\\Anaconda3\\lib\\site-packages\\sklearn\\model_selection\\_split.py:666: UserWarning: The least populated class in y has only 8 members, which is less than n_splits=10.\n",
      "  warnings.warn((\"The least populated class in y has only %d\"\n"
     ]
    },
    {
     "data": {
      "text/plain": [
       "array([25.52380952, 27.17948718, 26.82261209, 26.29370629, 37.52380952,\n",
       "       38.1       , 48.78571429, 28.4562212 , 25.38461538, 49.23340961])"
      ]
     },
     "execution_count": 58,
     "metadata": {},
     "output_type": "execute_result"
    }
   ],
   "source": [
    "best_knn_cv_10 = cross_val_score(best_knn, test_features, test_label, cv=10, scoring='f1_macro')\n",
    "best_knn_cv_10*100"
   ]
  },
  {
   "cell_type": "code",
   "execution_count": null,
   "metadata": {},
   "outputs": [],
   "source": []
  }
 ],
 "metadata": {
  "interpreter": {
   "hash": "44040a0c03ceedf56e7627ce74401665018171d527c73e9472d1273ea9459760"
  },
  "kernelspec": {
   "display_name": "Python 3 (ipykernel)",
   "language": "python",
   "name": "python3"
  },
  "language_info": {
   "codemirror_mode": {
    "name": "ipython",
    "version": 3
   },
   "file_extension": ".py",
   "mimetype": "text/x-python",
   "name": "python",
   "nbconvert_exporter": "python",
   "pygments_lexer": "ipython3",
   "version": "3.9.7"
  }
 },
 "nbformat": 4,
 "nbformat_minor": 2
}
